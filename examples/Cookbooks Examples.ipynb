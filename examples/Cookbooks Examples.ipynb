{
 "cells": [
  {
   "attachments": {},
   "cell_type": "markdown",
   "metadata": {},
   "source": [
    "# SDK Examples - Cookbooks\n",
    "\n",
    "Examples for new Cookbooks functions that were released with smsdk v1.1\n",
    "\n",
    "*created April 2023*"
   ]
  },
  {
   "cell_type": "code",
   "execution_count": null,
   "metadata": {},
   "outputs": [],
   "source": [
    "from smsdk import client\n",
    "from datetime import datetime, timedelta\n",
    "import pandas as pd\n",
    "import os"
   ]
  },
  {
   "cell_type": "code",
   "execution_count": null,
   "metadata": {},
   "outputs": [],
   "source": [
    "env_var_tenant = 'ENV_SDK_VAR_TENANT'\n",
    "env_var_api_key = 'ENV_SDK_VAR_API_KEY'\n",
    "env_var_api_secret = 'ENV_SDK_VAR_API_SECRET'\n",
    "\n",
    "# Check if the environment variable exists\n",
    "if env_var_tenant in os.environ:\n",
    "    # Retrieve the value of the environment variable\n",
    "    tenant = os.environ[env_var_tenant]\n",
    "else:\n",
    "    # Use a default value if the environment variable is not present\n",
    "    tenant = 'demo-continuous'\n",
    "\n",
    "# Check if the environment variable exists\n",
    "if env_var_api_key in os.environ:\n",
    "    # Retrieve the value of the environment variable\n",
    "    api_key = os.environ[env_var_api_key]\n",
    "else:\n",
    "    # Use a default value if the environment variable is not present\n",
    "    api_key = ''\n",
    "\n",
    "# Check if the environment variable exists\n",
    "if env_var_api_secret in os.environ:\n",
    "    # Retrieve the value of the environment variable\n",
    "    api_secret = os.environ[env_var_api_secret]\n",
    "else:\n",
    "    # Use a default value if the environment variable is not present\n",
    "    api_secret = ''"
   ]
  },
  {
   "cell_type": "code",
   "execution_count": null,
   "metadata": {},
   "outputs": [],
   "source": [
    "cli = client.Client(tenant)\n",
    "cli.login('apikey', \n",
    "          key_id = api_key, \n",
    "          secret_id = api_secret)\n",
    "\n",
    "machine_types = cli.get_machine_type_names()\n",
    "machine_types"
   ]
  },
  {
   "attachments": {},
   "cell_type": "markdown",
   "metadata": {},
   "source": [
    "# Cookbooks\n",
    "\n",
    "The SDK has several functions related to cookbooks allowing you to do things like look at the configuration of cookbooks and see the top runs of various recipes."
   ]
  },
  {
   "attachments": {},
   "cell_type": "markdown",
   "metadata": {},
   "source": [
    "## Get Cookbooks\n",
    "\n",
    "```cli.get_cookbooks()```\n",
    "\n",
    "Return a list of all cookbooks on this tenant, both deployed and undeployed. Cookbook data is in JSON format, which in python translates to dictionaries and lists.\n",
    "\n",
    "Note: Recipe groups are reflected as \"Products\" in the UI."
   ]
  },
  {
   "cell_type": "code",
   "execution_count": null,
   "metadata": {},
   "outputs": [],
   "source": [
    "cookbooks = cli.get_cookbooks()\n",
    "\n",
    "# example: count cookbooks\n",
    "print(\"Total number of cookbooks:\", len(cookbooks))\n",
    "\n",
    "# example: basic info about all cookbooks\n",
    "df_cookbooks = pd.DataFrame(cookbooks)\n",
    "df_cookbooks[[\"name\", \"assetNames\", \"id\"]]"
   ]
  },
  {
   "cell_type": "code",
   "execution_count": null,
   "metadata": {},
   "outputs": [],
   "source": [
    "# example: check out data from one of the cookbooks\n",
    "cookbook = cookbooks[2]\n",
    "cookbook"
   ]
  },
  {
   "cell_type": "code",
   "execution_count": null,
   "metadata": {},
   "outputs": [],
   "source": [
    "cookbook = cookbooks[2]\n",
    "# set a specific recipe group (product) for the examples below\n",
    "recipe_group_idx = 0\n",
    "\n",
    "# example: list outcomes in this cookbook & product\n",
    "print(\"Outcomes:\")\n",
    "for i in cookbook[\"recipe_groups\"][recipe_group_idx][\"outcomes\"]:\n",
    "    print(i[\"field\"][\"fieldName\"], \"- weight:\", i[\"weight\"])\n",
    "print()\n",
    "# example: list levers in this cookbook & product\n",
    "print(\"Levers:\")\n",
    "for i in cookbook[\"recipe_groups\"][recipe_group_idx][\"levers\"]:\n",
    "    print(i[\"fieldName\"])\n",
    "print()\n",
    "# example: list conditions/constraints in this cookbook & product\n",
    "print(\"Constraints (Conditions):\")\n",
    "for i in cookbook[\"recipe_groups\"][recipe_group_idx][\"constraints\"]:\n",
    "    print(i[\"field\"][\"fieldName\"])\n",
    "\n",
    "# NOTE: you could also use the schema for this machine to convert these raw field names to display names"
   ]
  },
  {
   "cell_type": "code",
   "execution_count": null,
   "metadata": {},
   "outputs": [],
   "source": [
    "cookbook = cookbooks[2]\n",
    "\n",
    "# example: getting a list of all recipe group IDs (products) for a cookbook\n",
    "print(\"Products:\")\n",
    "recipe_group_ids = [(i[\"id\"],i[\"values\"]) for i in cookbook[\"recipe_groups\"]]\n",
    "recipe_group_ids"
   ]
  },
  {
   "attachments": {},
   "cell_type": "markdown",
   "metadata": {},
   "source": [
    "## Get Top Runs/Results\n",
    "\n",
    "```cli.get_cookbook_top_results(recipe_group_id, limit)```\n",
    "\n",
    "This function returns the top runs for the selected recipe group (product). Set the limit as you would set the run limit in the Cookbooks UI (default = 10). **Note: the cookbook must be deployed for this to work. This means that not all cookbooks returned by cli.get_cookbooks can nessarily be used with cli.get_cookbook_top_results.** See [this](https://github.com/sightmachine/sightmachine-sdk/blob/master/docs/commonly_used_data_types/run.md) GitHub doc for more details on the format of the run data that's returned."
   ]
  },
  {
   "cell_type": "code",
   "execution_count": null,
   "metadata": {},
   "outputs": [],
   "source": [
    "cookbook = cookbooks[2]\n",
    "recipe_group_ids = [i[\"id\"] for i in cookbook[\"recipe_groups\"]]\n",
    "recipe_group_idx = 0\n",
    "\n",
    "print(\"Cookbook name:\", cookbook[\"name\"])\n",
    "print(\"Product:\", cookbook[\"recipe_groups\"][recipe_group_idx][\"values\"])\n",
    "\n",
    "results = cli.get_cookbook_top_results(recipe_group_ids[recipe_group_idx], 10)\n",
    "\n",
    "# extract the two parts of the run data - recipe view and run view (corresponding to two views in Cookbooks UI)\n",
    "runs = results[\"runs\"]\n",
    "recipes = results[\"constraint_groups\"]"
   ]
  },
  {
   "cell_type": "code",
   "execution_count": null,
   "metadata": {},
   "outputs": [],
   "source": [
    "# check out a sample run\n",
    "runs[0]"
   ]
  },
  {
   "cell_type": "code",
   "execution_count": null,
   "metadata": {},
   "outputs": [],
   "source": [
    "# check out a sample recipe\n",
    "recipes[0]"
   ]
  },
  {
   "cell_type": "code",
   "execution_count": null,
   "metadata": {},
   "outputs": [],
   "source": [
    "# example: print some stats\n",
    "print(\"Total number of runs for this recipe group (product):\", len(runs))\n",
    "unmuted_runs = [r for r in runs if r[\"_count\"]>r[\"_count_muted\"]]\n",
    "print(\"Total number of runs with unmuted records:\",len(unmuted_runs) )"
   ]
  },
  {
   "cell_type": "code",
   "execution_count": null,
   "metadata": {},
   "outputs": [],
   "source": [
    "# example: make a runs table\n",
    "df_runs = pd.DataFrame(runs)\n",
    "df_runs\n",
    "\n",
    "# prune this table down to get run-wise stats that could be graphed "
   ]
  },
  {
   "cell_type": "code",
   "execution_count": null,
   "metadata": {},
   "outputs": [],
   "source": [
    "# example: make a recipes table (matching cookbooks Recipes UI)\n",
    "df_recipes = pd.DataFrame(recipes)\n",
    "df_recipes"
   ]
  },
  {
   "cell_type": "code",
   "execution_count": null,
   "metadata": {},
   "outputs": [],
   "source": [
    "# example: count number of constraint groups (recipes)\n",
    "print(\"Total number of constraint groups (recipes) shown in final cookbook:\", len(df_recipes.index))"
   ]
  },
  {
   "attachments": {},
   "cell_type": "markdown",
   "metadata": {},
   "source": [
    "Note that you could compute the recipes table yourself if you take the run table, group by constraint group (recipe), and aggregate several of the fields."
   ]
  },
  {
   "cell_type": "code",
   "execution_count": null,
   "metadata": {},
   "outputs": [],
   "source": [
    "print(df_runs.constraint_group_id.nunique() == len(df_recipes.index))"
   ]
  },
  {
   "attachments": {},
   "cell_type": "markdown",
   "metadata": {},
   "source": [
    "## Get Current Value\n",
    "\n",
    "```cli.get_cookbook_current_value(variables, minutes)```\n",
    "\n",
    "This function gets the most recently reported values of the tags passed into it. See the example for parameter formatting. \n",
    "- ```variables``` is a list of dictionaries which must have the keys 'asset' and 'name'.\n",
    "    - Asset must be the official name, not the display name. It will be the same as the 'asset' values stored in the cookbook top runs data, or the values in the 'assetNames' list included in a cookbook's configuration.\n",
    "    - Name must be the official tag name, not a tag display name. Tags used here can be any tag associated with the chosen asset **except for** KPI-computed tags/outcomes.\n",
    "    - Be sure to get the asset name and tag name by looking at a sample run for your cookbook. That way, you can make sure the asset and tag name are correctly formatted. \n",
    "    - Note that if even one of the dicts in this list is invalid, the function will throw an error and neglect to tell you which parameter is causing the issue.\n",
    "- ```minutes``` is optional and defines the number of minutes back you want to look (defaults to 1440 or one day). \n",
    "    - None is returned if the tag does not have any reported values in the last ```minutes``` number of minutes."
   ]
  },
  {
   "cell_type": "code",
   "execution_count": null,
   "metadata": {},
   "outputs": [],
   "source": [
    "# get the current value for a constraint and non-KPI outcome\n",
    "vars = [{'asset': 'JB_HM_Diecast_1', 'name': \"stats__AluminumTempAvg__val\"},\n",
    "        {'asset': 'JB_HM_Diecast_1', 'name': \"stats__ProductSKU__val\"}]\n",
    "vals_dict = cli.get_cookbook_current_value(vars)\n",
    "pd.DataFrame(vals_dict)"
   ]
  },
  {
   "cell_type": "code",
   "execution_count": null,
   "metadata": {},
   "outputs": [],
   "source": [
    "# example: a setting for minutes that doesn't go far enough back to find last value\n",
    "vals_dict = cli.get_cookbook_current_value(vars, minutes=0.5)\n",
    "pd.DataFrame(vals_dict)"
   ]
  },
  {
   "cell_type": "code",
   "execution_count": null,
   "metadata": {},
   "outputs": [],
   "source": [
    "# get the current value for a tag that's not necessarily in cookbook\n",
    "vars = [{'asset': 'JB_HM_Diecast_1', 'name': \"stats__AluminumTempAvg__val\"}]\n",
    "vals_dict = cli.get_cookbook_current_value(vars)\n",
    "pd.DataFrame(vals_dict)"
   ]
  },
  {
   "attachments": {},
   "cell_type": "markdown",
   "metadata": {},
   "source": [
    "## Normalize Constraints\n",
    "\n",
    "```cli.normalize_constraints(constraint_values)```\n",
    "\n",
    "Return a clean string version of constraint fields. Helps turn the dictionary constraint definitions into a more concise string format. ```constraint_values``` must be a list of constraint dicts, each of which include at least a \"to\" and \"from\" key. This function only works on range-based constraints (i.e. when the condition tag is continuous, not categorical).\n",
    "\n",
    "Example:\n",
    "- input = ```[{'from': 120, 'from_is_inclusive': True, 'to': None, 'to_is_inclusive': False}, ...]```\n",
    "- output = ```['[120,None)', ...]```"
   ]
  },
  {
   "cell_type": "code",
   "execution_count": null,
   "metadata": {},
   "outputs": [],
   "source": [
    "if len(runs) and len(runs[0][\"constraints\"]):\n",
    "    range_example = runs[0][\"constraints\"][0][\"values\"]\n",
    "    print(range_example)"
   ]
  },
  {
   "cell_type": "code",
   "execution_count": null,
   "metadata": {},
   "outputs": [],
   "source": [
    "# turn constraint dicts to strings for the first run\n",
    "run_idx = 0\n",
    "ranges = [i[\"values\"] for i in runs[run_idx][\"constraints\"]]\n",
    "\n",
    "print(ranges)\n",
    "print(cli.normalize_constraints(ranges))\n",
    "\n",
    "# NOTE not exactly the intended output - waiting on fix for this"
   ]
  },
  {
   "cell_type": "code",
   "execution_count": null,
   "metadata": {},
   "outputs": [],
   "source": []
  }
 ],
 "metadata": {
  "kernelspec": {
   "display_name": "sdk-only",
   "language": "python",
   "name": "python3"
  },
  "language_info": {
   "codemirror_mode": {
    "name": "ipython",
    "version": 3
   },
   "file_extension": ".py",
   "mimetype": "text/x-python",
   "name": "python",
   "nbconvert_exporter": "python",
   "pygments_lexer": "ipython3",
   "version": "3.8.18"
  },
  "orig_nbformat": 4
 },
 "nbformat": 4,
 "nbformat_minor": 2
}
