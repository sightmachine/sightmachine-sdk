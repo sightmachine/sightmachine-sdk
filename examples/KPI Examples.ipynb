{
 "cells": [
  {
   "attachments": {},
   "cell_type": "markdown",
   "metadata": {},
   "source": [
    "# SDK Examples - KPIs\n",
    "\n",
    "Examples for new KPI functions that were released with smsdk v1.1\n",
    "\n",
    "*created April 2023*"
   ]
  },
  {
   "cell_type": "code",
   "execution_count": null,
   "metadata": {},
   "outputs": [],
   "source": [
    "from smsdk import client\n",
    "from datetime import datetime, timedelta\n",
    "import pandas as pd\n",
    "import os"
   ]
  },
  {
   "cell_type": "code",
   "execution_count": null,
   "metadata": {},
   "outputs": [],
   "source": [
    "env_var_tenant = 'ENV_SDK_VAR_TENANT'\n",
    "env_var_api_key = 'ENV_SDK_VAR_API_KEY'\n",
    "env_var_api_secret = 'ENV_SDK_VAR_API_SECRET'\n",
    "\n",
    "# Check if the environment variable exists\n",
    "if env_var_tenant in os.environ:\n",
    "    # Retrieve the value of the environment variable\n",
    "    tenant = os.environ[env_var_tenant]\n",
    "else:\n",
    "    # Use a default value if the environment variable is not present\n",
    "    tenant = 'demo'\n",
    "\n",
    "# Check if the environment variable exists\n",
    "if env_var_api_key in os.environ:\n",
    "    # Retrieve the value of the environment variable\n",
    "    api_key = os.environ[env_var_api_key]\n",
    "else:\n",
    "    # Use a default value if the environment variable is not present\n",
    "    api_key = ''\n",
    "\n",
    "# Check if the environment variable exists\n",
    "if env_var_api_secret in os.environ:\n",
    "    # Retrieve the value of the environment variable\n",
    "    api_secret = os.environ[env_var_api_secret]\n",
    "else:\n",
    "    # Use a default value if the environment variable is not present\n",
    "    api_secret = ''"
   ]
  },
  {
   "cell_type": "code",
   "execution_count": null,
   "metadata": {},
   "outputs": [],
   "source": [
    "cli = client.Client(tenant)\n",
    "cli.login('apikey', \n",
    "          key_id = api_key, \n",
    "          secret_id = api_secret)\n",
    "\n",
    "machine_types = cli.get_machine_type_names()\n",
    "machine_types"
   ]
  },
  {
   "attachments": {},
   "cell_type": "markdown",
   "metadata": {},
   "source": [
    "# KPIs\n",
    "---\n",
    "\n",
    "The SDK has three functions related to KPIs. The first returns a list of all availible KPIs. The second of which allows a user to see which KPIs are availible for a particular asset. The third makes use of our Data Visualization API which allows a user to see these KPIs over a timeframe."
   ]
  },
  {
   "attachments": {},
   "cell_type": "markdown",
   "metadata": {},
   "source": [
    "## Get KPIs\n",
    "\n",
    "```cli.get_kpis()```\n",
    "\n",
    "List the available KPIs for all assets."
   ]
  },
  {
   "cell_type": "code",
   "execution_count": null,
   "metadata": {},
   "outputs": [],
   "source": [
    "kpis_dict = cli.get_kpis()\n",
    "kpis_dict"
   ]
  },
  {
   "cell_type": "code",
   "execution_count": null,
   "metadata": {},
   "outputs": [],
   "source": [
    "# example: create a table with KPIs and formulas\n",
    "df_kpis = pd.DataFrame(kpis_dict)\n",
    "df_kpis"
   ]
  },
  {
   "cell_type": "markdown",
   "metadata": {},
   "source": [
    "## Get KPIs for Asset\n",
    "\n",
    "```cli.get_kpis_for_asset(**asset_selection)```\n",
    "\n",
    "List the available KPIs for a specific asset. For asset selection, see the example below or [this](https://github.com/sightmachine/sightmachine-sdk/blob/master/docs/commonly_used_data_types/asset_selection.md) GitHub doc.\n",
    "\n",
    "**NOTE: machine type names must be the raw ones, not the clean/display names printed above!!!**"
   ]
  },
  {
   "cell_type": "code",
   "execution_count": null,
   "metadata": {},
   "outputs": [],
   "source": [
    "# get the raw machine type names (requires a sort of roundabout method)\n",
    "def get_raw_machine_type(clean_machine_type: str) -> str:\n",
    "    machines = cli.get_machine_names(source_type=clean_machine_type)\n",
    "    return(cli.get_type_from_machine(machines[0]))"
   ]
  },
  {
   "cell_type": "code",
   "execution_count": null,
   "metadata": {},
   "outputs": [],
   "source": [
    "# KPIs by machine type\n",
    "machine_types_clean = ['Pick & Place', 'Diecast']\n",
    "asset1 = { \n",
    "    \"asset_selection\": {\n",
    "        'machine_type': [get_raw_machine_type(i) for i in machine_types_clean]\n",
    "    }\n",
    "}\n",
    "kpis_asset1 = cli.get_kpis_for_asset(**asset1)\n",
    "pd.DataFrame(kpis_asset1)"
   ]
  },
  {
   "cell_type": "code",
   "execution_count": null,
   "metadata": {},
   "outputs": [],
   "source": [
    "# check machines of some type\n",
    "prod_status_machines = cli.get_machine_names(source_type='Pick & Place')\n",
    "\n",
    "# KPIs by machine\n",
    "asset2 = {\n",
    "    'asset_selection': {\n",
    "        'machine_type': [get_raw_machine_type(\"Pick & Place\")],\n",
    "        'machine_source': [prod_status_machines[0]]\n",
    "    }\n",
    "}\n",
    "kpis_asset2 = cli.get_kpis_for_asset(**asset2)\n",
    "pd.DataFrame(kpis_asset2)"
   ]
  },
  {
   "attachments": {},
   "cell_type": "markdown",
   "metadata": {},
   "source": [
    "## Get KPIs over Time\n",
    "\n",
    "```cli.get_kpi_data_viz(machine_source, kpis, i_vars, time_selection, **optional_data_viz_query)```\n",
    "\n",
    "Get the value of a chosen KPI over some specific period of time. See examples of how to use all the parameters below. Find additional info about parameter formatting on [this](https://github.com/sightmachine/sightmachine-sdk/blob/master/docs/commonly_used_data_types/data_viz_query.md) GitHub doc."
   ]
  },
  {
   "attachments": {},
   "cell_type": "markdown",
   "metadata": {},
   "source": [
    "```machine_source```: a list of machine names"
   ]
  },
  {
   "cell_type": "code",
   "execution_count": null,
   "metadata": {},
   "outputs": [],
   "source": [
    "this_machine_sources = [prod_status_machines[0]]"
   ]
  },
  {
   "attachments": {},
   "cell_type": "markdown",
   "metadata": {},
   "source": [
    "```kpis```: a list of names of kpis that you want data for"
   ]
  },
  {
   "cell_type": "code",
   "execution_count": null,
   "metadata": {},
   "outputs": [],
   "source": [
    "# query all KPIs - it should return only those available for this machine\n",
    "this_kpis = df_kpis[\"name\"].to_list()"
   ]
  },
  {
   "attachments": {},
   "cell_type": "markdown",
   "metadata": {},
   "source": [
    "```i_vars```: a list of dicts, one per independent (x-axis) variable -- for our purposes, usually a list of size one, where the one dict has details about some time field"
   ]
  },
  {
   "cell_type": "code",
   "execution_count": null,
   "metadata": {},
   "outputs": [],
   "source": [
    "this_i_vars = [\n",
    "    {\n",
    "      \"name\": \"endtime\",  # name of independent variable\n",
    "      \"time_resolution\": \"day\",   # choose anything from 'year' down to 'second'\n",
    "      \"query_tz\": \"America/Los_Angeles\",    # optional - timezone that query is in\n",
    "      \"output_tz\": \"America/Los_Angeles\",  # optional - timezone that returned data should be in\n",
    "      \"bin_strategy\": \"user_defined2\",  # optional - how to bin the data ('user_defined2', 'none', or 'categorical')\n",
    "      \"bin_count\": 50   # optional - how many bins you want the data in\n",
    "    }\n",
    "]"
   ]
  },
  {
   "attachments": {},
   "cell_type": "markdown",
   "metadata": {},
   "source": [
    "```time_selection```: a dictionary for time selection, with all the same options as MA Data Viz (see [this](https://github.com/sightmachine/sightmachine-sdk/blob/master/docs/commonly_used_data_types/data_viz_query.md#time_selection) GitHub doc for more specifics)"
   ]
  },
  {
   "cell_type": "code",
   "execution_count": null,
   "metadata": {},
   "outputs": [],
   "source": [
    "# relative time selection\n",
    "this_time_selection = {\n",
    "    \"time_type\": \"relative\",\n",
    "    \"relative_start\": 7,\n",
    "    \"relative_unit\": \"year\",\n",
    "    \"ctime_tz\": \"America/Los_Angeles\"\n",
    "}\n",
    "\n",
    "# absolution time selection\n",
    "# this_time_selection = {\n",
    "#   \"time_type\": \"absolute\",\n",
    "#   \"start_time\": \"2023-02-23T08:00:00.000Z\",\n",
    "#   \"end_time\": \"2023-03-01T21:35:35.499Z\",\n",
    "#   \"time_zone\": \"America/Los_Angeles\"\n",
    "# }"
   ]
  },
  {
   "attachments": {},
   "cell_type": "markdown",
   "metadata": {},
   "source": [
    "This function may take a minute to run. If you run into issues, make sure the KPI you're looking for exists for the asset you're looking for using get_kpis_for_asset (above). Also, try creating the same query in MA. If it works, use the Developer Panel of your browser to view the contents of the API call."
   ]
  },
  {
   "cell_type": "code",
   "execution_count": null,
   "metadata": {},
   "outputs": [],
   "source": [
    "cli.get_kpi_data_viz(machine_sources=this_machine_sources,\n",
    "                     kpis=this_kpis, i_vars=this_i_vars,\n",
    "                     time_selection=this_time_selection)"
   ]
  },
  {
   "attachments": {},
   "cell_type": "markdown",
   "metadata": {},
   "source": [
    "Using additional args - Where"
   ]
  },
  {
   "cell_type": "code",
   "execution_count": null,
   "metadata": {},
   "outputs": [],
   "source": [
    "# this_args = {'where': [{\n",
    "#     \"name\": \"oee\",\n",
    "#     \"op\": \"eq\",\n",
    "#     \"value\": \"65.7489705585684\"\n",
    "# }]\n",
    "# }\n",
    "\n",
    "this_args = {\n",
    "    \"where\": [],\n",
    "}\n",
    "\n",
    "data_dict = cli.get_kpi_data_viz(machine_sources=this_machine_sources,\n",
    "                     kpis=this_kpis, i_vars=this_i_vars,\n",
    "                     time_selection=this_time_selection,\n",
    "                     **this_args)\n",
    "\n",
    "if len(data_dict):\n",
    "    print(data_dict[0])"
   ]
  },
  {
   "cell_type": "code",
   "execution_count": null,
   "metadata": {},
   "outputs": [],
   "source": [
    "# example: extract a table\n",
    "data_list = []\n",
    "for point in data_dict:\n",
    "    new_row = {}\n",
    "    # extract i_vals (assuming it's just one - time)\n",
    "    new_row[\"endtime\"] = point[\"i_vals\"][\"endtime\"][\"bin_avg\"]\n",
    "    # extract d_vals\n",
    "    for d in point[\"d_vals\"].keys():\n",
    "        new_row[d] = point[\"d_vals\"][d][\"avg\"]\n",
    "    # extract other (dependent) values\n",
    "    for kpi in point[\"kpi_dependencies\"].keys():\n",
    "        for field in point[\"kpi_dependencies\"][kpi].keys():\n",
    "            new_row[field] = point[\"kpi_dependencies\"][kpi][field]\n",
    "    # add to list of rows\n",
    "    data_list.append(new_row)\n",
    "df_kpis = pd.DataFrame(data_list)\n",
    "        \n",
    "# now you can graph the data using this table\n",
    "\n",
    "df_kpis.head()"
   ]
  },
  {
   "cell_type": "code",
   "execution_count": null,
   "metadata": {},
   "outputs": [],
   "source": []
  }
 ],
 "metadata": {
  "kernelspec": {
   "display_name": "sdk-only",
   "language": "python",
   "name": "python3"
  },
  "language_info": {
   "codemirror_mode": {
    "name": "ipython",
    "version": 3
   },
   "file_extension": ".py",
   "mimetype": "text/x-python",
   "name": "python",
   "nbconvert_exporter": "python",
   "pygments_lexer": "ipython3",
   "version": "3.8.18"
  },
  "orig_nbformat": 4
 },
 "nbformat": 4,
 "nbformat_minor": 2
}
