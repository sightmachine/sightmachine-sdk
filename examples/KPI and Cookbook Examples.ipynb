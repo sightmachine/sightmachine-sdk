{
 "cells": [
  {
   "attachments": {},
   "cell_type": "markdown",
   "metadata": {},
   "source": [
    "# SDK Examples - KPIs and Cookbooks\n",
    "\n",
    "Examples for new KPI and Cookbook functions that were released with smsdk v1.1\n",
    "\n",
    "This demo will use the [demo-continuous](https://demo-continuous.sightmachine.io)  environment.\n"
   ]
  },
  {
   "cell_type": "code",
   "execution_count": 1,
   "metadata": {},
   "outputs": [],
   "source": [
    "from smsdk import client\n",
    "from datetime import datetime, timedelta\n",
    "import pandas as pd"
   ]
  },
  {
   "cell_type": "code",
   "execution_count": 3,
   "metadata": {},
   "outputs": [
    {
     "data": {
      "text/plain": [
       "['Downtime',\n",
       " 'Paper_Mill_Finishing_and_Shipping',\n",
       " 'Paper_Mill_PM1_Broke',\n",
       " 'Paper_Mill_PM1_Calender_Stacks',\n",
       " 'Paper_Mill_PM1_Dryer_Section',\n",
       " 'Paper_Mill_PM1_Forming_Section',\n",
       " 'Paper_Mill_PM1_Headbox',\n",
       " 'Paper_Mill_PM1_Lab_Tests',\n",
       " 'Paper_Mill_PM1_Press_Section',\n",
       " 'Paper_Mill_PM1_Production_Status']"
      ]
     },
     "execution_count": 3,
     "metadata": {},
     "output_type": "execute_result"
    }
   ],
   "source": [
    "# TODO remove keys before commit\n",
    "api_key = '146d5b29-3737-4f79-af00-af54678455e4'\n",
    "api_secret = 'sma_olLaTJ5NQXF8rXhiuh35bNqnJrfP66q6VzyV4p4ODxt_'\n",
    "cli = client.Client('demo-continuous')\n",
    "cli.login('apikey', \n",
    "          key_id = api_key, \n",
    "          secret_id = api_secret)\n",
    "\n",
    "types = cli.get_machine_type_names()\n",
    "types[:10]"
   ]
  },
  {
   "attachments": {},
   "cell_type": "markdown",
   "metadata": {},
   "source": [
    "# KPIs\n",
    "\n",
    "The SDK has three functions related to KPIs. The first returns a list of all availible KPIs. The second of which allows a user to see which KPIs are availible for a particular asset. The third makes use of our Data Visualization API which allows a user to see these KPIs over a timeframe."
   ]
  },
  {
   "attachments": {},
   "cell_type": "markdown",
   "metadata": {},
   "source": [
    "## Get KPIs\n",
    "\n",
    "```cli.get_kpis()```\n",
    "\n",
    "List the available KPIs for all assets."
   ]
  },
  {
   "cell_type": "code",
   "execution_count": 7,
   "metadata": {},
   "outputs": [
    {
     "data": {
      "text/html": [
       "<div>\n",
       "<style scoped>\n",
       "    .dataframe tbody tr th:only-of-type {\n",
       "        vertical-align: middle;\n",
       "    }\n",
       "\n",
       "    .dataframe tbody tr th {\n",
       "        vertical-align: top;\n",
       "    }\n",
       "\n",
       "    .dataframe thead th {\n",
       "        text-align: right;\n",
       "    }\n",
       "</style>\n",
       "<table border=\"1\" class=\"dataframe\">\n",
       "  <thead>\n",
       "    <tr style=\"text-align: right;\">\n",
       "      <th></th>\n",
       "      <th>name</th>\n",
       "      <th>display_name</th>\n",
       "      <th>formula</th>\n",
       "      <th>data_type</th>\n",
       "      <th>dependencies</th>\n",
       "    </tr>\n",
       "  </thead>\n",
       "  <tbody>\n",
       "    <tr>\n",
       "      <th>0</th>\n",
       "      <td>quality</td>\n",
       "      <td>Quality</td>\n",
       "      <td>good_tons / (good_tons + (reject_tons + (rando...</td>\n",
       "      <td></td>\n",
       "      <td>[{'aggregate': 'sum', 'name': 'reject_tons'}, ...</td>\n",
       "    </tr>\n",
       "    <tr>\n",
       "      <th>1</th>\n",
       "      <td>performance</td>\n",
       "      <td>Performance</td>\n",
       "      <td>(machine_speed / max_speed) * 100 if max_speed...</td>\n",
       "      <td></td>\n",
       "      <td>[{'aggregate': 'sum', 'name': 'machine_speed'}...</td>\n",
       "    </tr>\n",
       "    <tr>\n",
       "      <th>2</th>\n",
       "      <td>availability</td>\n",
       "      <td>Availability</td>\n",
       "      <td>(availability / denominator) * 100 if denomina...</td>\n",
       "      <td></td>\n",
       "      <td>[{'aggregate': 'sum', 'name': 'availability'},...</td>\n",
       "    </tr>\n",
       "    <tr>\n",
       "      <th>3</th>\n",
       "      <td>oee</td>\n",
       "      <td>OEE</td>\n",
       "      <td>(good_tons / (good_tons + (reject_tons + (rand...</td>\n",
       "      <td></td>\n",
       "      <td>[{'aggregate': 'sum', 'name': 'reject_tons'}, ...</td>\n",
       "    </tr>\n",
       "  </tbody>\n",
       "</table>\n",
       "</div>"
      ],
      "text/plain": [
       "           name  display_name   \n",
       "0       quality       Quality  \\\n",
       "1   performance   Performance   \n",
       "2  availability  Availability   \n",
       "3           oee           OEE   \n",
       "\n",
       "                                             formula data_type   \n",
       "0  good_tons / (good_tons + (reject_tons + (rando...            \\\n",
       "1  (machine_speed / max_speed) * 100 if max_speed...             \n",
       "2  (availability / denominator) * 100 if denomina...             \n",
       "3  (good_tons / (good_tons + (reject_tons + (rand...             \n",
       "\n",
       "                                        dependencies  \n",
       "0  [{'aggregate': 'sum', 'name': 'reject_tons'}, ...  \n",
       "1  [{'aggregate': 'sum', 'name': 'machine_speed'}...  \n",
       "2  [{'aggregate': 'sum', 'name': 'availability'},...  \n",
       "3  [{'aggregate': 'sum', 'name': 'reject_tons'}, ...  "
      ]
     },
     "execution_count": 7,
     "metadata": {},
     "output_type": "execute_result"
    }
   ],
   "source": [
    "kpis_dict = cli.get_kpis()\n",
    "pd.DataFrame(kpis_dict)"
   ]
  },
  {
   "attachments": {},
   "cell_type": "markdown",
   "metadata": {},
   "source": [
    "## Get KPIs for Asset\n",
    "\n",
    "```cli.get_kpis_for_asset(**asset_selection)```\n",
    "\n",
    "List the available KPIs for a specific asset."
   ]
  },
  {
   "cell_type": "code",
   "execution_count": null,
   "metadata": {},
   "outputs": [],
   "source": [
    "# TODO asset picker\n",
    "# TODO\n"
   ]
  },
  {
   "attachments": {},
   "cell_type": "markdown",
   "metadata": {},
   "source": [
    "## Get KPIs over Time\n",
    "\n",
    "```cli.get_kpi_data_viz(machine_source, kpis, i_vars, time_selection, **optional_data_viz_query)```\n",
    "\n",
    "Get the value of a chosen KPI over some specific period of time."
   ]
  },
  {
   "cell_type": "code",
   "execution_count": null,
   "metadata": {},
   "outputs": [],
   "source": [
    "# TODO"
   ]
  },
  {
   "attachments": {},
   "cell_type": "markdown",
   "metadata": {},
   "source": [
    "# Cookbooks\n",
    "The SDK has several functions related to cookbooks allowing you to do things like look at the configuration of cookbooks and see the top runs of various recipes."
   ]
  },
  {
   "attachments": {},
   "cell_type": "markdown",
   "metadata": {},
   "source": [
    "## Get Cookbooks\n",
    "\n",
    "```cli.get_cookbooks()```\n",
    "\n",
    "Return a list of all cookbooks on this tenant. Cookbook data is in JSON format, which in python translates to dictionaries and lists.\n",
    "\n",
    "Note: Recipe groups are reflected as \"Products\" in the UI."
   ]
  },
  {
   "cell_type": "code",
   "execution_count": 12,
   "metadata": {},
   "outputs": [
    {
     "data": {
      "text/plain": [
       "['hash',\n",
       " 'tag',\n",
       " 'auto_generated_parent',\n",
       " 'name',\n",
       " 'assetNames',\n",
       " 'key_constraint',\n",
       " 'recipe_groups',\n",
       " 'metadata',\n",
       " 'updatetime',\n",
       " 'assets',\n",
       " 'id']"
      ]
     },
     "execution_count": 12,
     "metadata": {},
     "output_type": "execute_result"
    }
   ],
   "source": [
    "cookbooks = cli.get_cookbooks()\n",
    "list(cookbooks[0].keys())"
   ]
  },
  {
   "cell_type": "code",
   "execution_count": null,
   "metadata": {},
   "outputs": [],
   "source": [
    "# TODO useful example"
   ]
  },
  {
   "attachments": {},
   "cell_type": "markdown",
   "metadata": {},
   "source": [
    "## Get Top Results\n",
    "\n",
    "```cli.get_cookbook_top_results(recipe_group_id, limit)```\n",
    "\n",
    "This function returns the top runs for the selected recipe group (product). Set the limit as you would set the run limit in the Cookbooks UI (default = 10)."
   ]
  },
  {
   "cell_type": "code",
   "execution_count": null,
   "metadata": {},
   "outputs": [],
   "source": [
    "# TODO "
   ]
  },
  {
   "attachments": {},
   "cell_type": "markdown",
   "metadata": {},
   "source": [
    "## Get Current Value\n",
    "\n",
    "```cli.get_cookbook_current_value(variables, minutes)```\n",
    "\n",
    "This function gets the current values of the fields passed into it. See the example for variables formatting. ```minutes`` is optional and defines the number of minutes back you want to look."
   ]
  },
  {
   "cell_type": "code",
   "execution_count": null,
   "metadata": {},
   "outputs": [],
   "source": [
    "# TODO"
   ]
  },
  {
   "attachments": {},
   "cell_type": "markdown",
   "metadata": {},
   "source": [
    "## Normalize Constraints\n",
    "\n",
    "```cli.normalize_constraints(constraint_values)```\n",
    "\n",
    "Return a clean string version of constraint fields. Helps turn the dictionary constraint definitions into a more concise string format. This only works on range-based constraints (i.e. when the condition tag is continuous, not categorical)."
   ]
  },
  {
   "cell_type": "code",
   "execution_count": 24,
   "metadata": {},
   "outputs": [
    {
     "data": {
      "text/plain": [
       "[{'field': {'fieldName': 'stats__Dirt__val',\n",
       "   'machineId': '68fc08dcefa0cb744a5407e4',\n",
       "   'machineName': 'F3_Pulp_Mill_Pulpers',\n",
       "   'machineDisplayName': 'F3_Pulp_Mill_Pulpers',\n",
       "   'fieldType': 'continuous',\n",
       "   'machineType': 'mt_pulp_mill_pulpers',\n",
       "   'fieldDisplayName': 'Dirt',\n",
       "   'fieldUnit': 'ppm'},\n",
       "  'ranges': [[{'op': 'gt', 'value': 800}]],\n",
       "  'valueMap': {}}]"
      ]
     },
     "execution_count": 24,
     "metadata": {},
     "output_type": "execute_result"
    }
   ],
   "source": [
    "# TODO\n",
    "cookbooks[1][\"recipe_groups\"][0][\"constraints\"]"
   ]
  }
 ],
 "metadata": {
  "kernelspec": {
   "display_name": "sdk-only",
   "language": "python",
   "name": "python3"
  },
  "language_info": {
   "codemirror_mode": {
    "name": "ipython",
    "version": 3
   },
   "file_extension": ".py",
   "mimetype": "text/x-python",
   "name": "python",
   "nbconvert_exporter": "python",
   "pygments_lexer": "ipython3",
   "version": "3.11.3"
  },
  "orig_nbformat": 4
 },
 "nbformat": 4,
 "nbformat_minor": 2
}
