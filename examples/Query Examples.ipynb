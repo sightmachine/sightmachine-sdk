{
 "metadata": {
  "language_info": {
   "codemirror_mode": {
    "name": "ipython",
    "version": 3
   },
   "file_extension": ".py",
   "mimetype": "text/x-python",
   "name": "python",
   "nbconvert_exporter": "python",
   "pygments_lexer": "ipython3",
   "version": "3.7.5-final"
  },
  "orig_nbformat": 2,
  "kernelspec": {
   "name": "python3",
   "display_name": "Python 3",
   "language": "python"
  }
 },
 "nbformat": 4,
 "nbformat_minor": 2,
 "cells": [
  {
   "source": [
    "# Query Examples for SDK\n",
    "\n",
    "Some of the most common query operators in the Sight Machine SDK."
   ],
   "cell_type": "markdown",
   "metadata": {}
  },
  {
   "cell_type": "code",
   "execution_count": 1,
   "metadata": {},
   "outputs": [],
   "source": [
    "from smsdk import client\n",
    "from datetime import datetime, timedelta\n",
    "import pandas as pd"
   ]
  },
  {
   "cell_type": "code",
   "execution_count": 2,
   "metadata": {},
   "outputs": [],
   "source": [
    "cli = client.Client('tenant_name')\n",
    "cli.login('apikey', \n",
    "          key_id = 'key_name', \n",
    "          secret_id = 'secret_name')\n",
    "\n",
    "types = cli.get_machine_type_names()\n",
    "\n",
    "machine_type = types[0]\n",
    "machines = cli.get_machine_names(source_type=machine_type)\n",
    "\n",
    "columns = cli.get_machine_schema(machines[0])['display'].to_list()"
   ]
  },
  {
   "source": [
    "## A basic starting query.\n",
    "\n",
    "This is the same query as from the quick start, used to set a baseline.  Then we'll use variations on this theme to demonstrate different query options and their effects.\n",
    "\n",
    "Note that this baseline query already demonstrates:\n",
    "- Basic filter rules formatted as key value pairs\n",
    "- Filtering for greater than or less than values\n",
    "    - It uses `__gte` for greater than or equal.  Use `__gt` for greater than.  Similarly `__lte` is less than or equal vs. `__lt` for less than.\n",
    "- Sorting returned results\n",
    "    - Note the `-` prefix before `Endtime` means to sort descending.  To sort ascending, do not place a prefix in front of the variable name."
   ],
   "cell_type": "markdown",
   "metadata": {}
  },
  {
   "cell_type": "code",
   "execution_count": 3,
   "metadata": {},
   "outputs": [
    {
     "output_type": "stream",
     "name": "stdout",
     "text": [
      "_only not specified.  Selecting first 50 fields.\n",
      "Size of returned data: (1441, 40)\n"
     ]
    },
    {
     "output_type": "execute_result",
     "data": {
      "text/plain": [
       "                                  Start Time            End Time  \\\n",
       "id                                                                 \n",
       "5f6eeb3e5d20e300018cb3dc 2020-09-01 23:59:00 2020-09-02 00:00:00   \n",
       "5f6eeb3e5d20e300018cb3db 2020-09-01 23:58:00 2020-09-01 23:59:00   \n",
       "5f6eeb3e5d20e300018cb3da 2020-09-01 23:57:00 2020-09-01 23:58:00   \n",
       "5f6eeb3e5d20e300018cb3d9 2020-09-01 23:56:00 2020-09-01 23:57:00   \n",
       "5f6eeb3e5d20e300018cb3d8 2020-09-01 23:55:00 2020-09-01 23:56:00   \n",
       "\n",
       "                          Cycle Time (Net)  Cycle Time (Gross) Shift Machine  \\\n",
       "id                                                                             \n",
       "5f6eeb3e5d20e300018cb3dc             60000               60000   Day    BM 1   \n",
       "5f6eeb3e5d20e300018cb3db             60000               60000   Day    BM 1   \n",
       "5f6eeb3e5d20e300018cb3da             60000               60000   Day    BM 1   \n",
       "5f6eeb3e5d20e300018cb3d9             60000               60000   Day    BM 1   \n",
       "5f6eeb3e5d20e300018cb3d8             60000               60000   Day    BM 1   \n",
       "\n",
       "                          BM: Axial Load  BM: Dome Depth  \\\n",
       "id                                                         \n",
       "5f6eeb3e5d20e300018cb3dc           86.75           11.15   \n",
       "5f6eeb3e5d20e300018cb3db           86.75           11.15   \n",
       "5f6eeb3e5d20e300018cb3da           86.75           11.15   \n",
       "5f6eeb3e5d20e300018cb3d9           86.75           11.15   \n",
       "5f6eeb3e5d20e300018cb3d8           86.75           11.15   \n",
       "\n",
       "                          BM: Thickwall Variation  BM: Trim Height Max  ...  \\\n",
       "id                                                                      ...   \n",
       "5f6eeb3e5d20e300018cb3dc                     14.6             131.2865  ...   \n",
       "5f6eeb3e5d20e300018cb3db                     14.6             131.2865  ...   \n",
       "5f6eeb3e5d20e300018cb3da                     14.6             131.2865  ...   \n",
       "5f6eeb3e5d20e300018cb3d9                     14.6             131.2865  ...   \n",
       "5f6eeb3e5d20e300018cb3d8                     14.6             131.2865  ...   \n",
       "\n",
       "                          BM: Thinwall Avg  BM: Trim Height Avg   0_BM: CPM  \\\n",
       "id                                                                            \n",
       "5f6eeb3e5d20e300018cb3dc         89.450002           131.246999  256.000000   \n",
       "5f6eeb3e5d20e300018cb3db         89.450002           131.246999  260.000000   \n",
       "5f6eeb3e5d20e300018cb3da         89.450002           131.246999  243.333333   \n",
       "5f6eeb3e5d20e300018cb3d9         89.450002           131.246999  240.000000   \n",
       "5f6eeb3e5d20e300018cb3d8         89.450002           131.246999  240.000000   \n",
       "\n",
       "                          BM: Trim Height Variation  \\\n",
       "id                                                    \n",
       "5f6eeb3e5d20e300018cb3dc                       0.08   \n",
       "5f6eeb3e5d20e300018cb3db                       0.08   \n",
       "5f6eeb3e5d20e300018cb3da                       0.08   \n",
       "5f6eeb3e5d20e300018cb3d9                       0.08   \n",
       "5f6eeb3e5d20e300018cb3d8                       0.08   \n",
       "\n",
       "                          0_BM: Primary Tear Off PPM  BM: Trimmer Jam - Data  \\\n",
       "id                                                                             \n",
       "5f6eeb3e5d20e300018cb3dc                         0.0                     0.0   \n",
       "5f6eeb3e5d20e300018cb3db                         0.0                     0.0   \n",
       "5f6eeb3e5d20e300018cb3da                         0.0                     0.0   \n",
       "5f6eeb3e5d20e300018cb3d9                         0.0                     0.0   \n",
       "5f6eeb3e5d20e300018cb3d8                         0.0                     0.0   \n",
       "\n",
       "                         BM: Trimmer Jam Time  BM: Trimmer Jam Events  \\\n",
       "id                                                                      \n",
       "5f6eeb3e5d20e300018cb3dc                    0                       0   \n",
       "5f6eeb3e5d20e300018cb3db                    0                       0   \n",
       "5f6eeb3e5d20e300018cb3da                    0                       0   \n",
       "5f6eeb3e5d20e300018cb3d9                    0                       0   \n",
       "5f6eeb3e5d20e300018cb3d8                    0                       0   \n",
       "\n",
       "                          BM: Cans Out  BM: Cans Out Total  \n",
       "id                                                          \n",
       "5f6eeb3e5d20e300018cb3dc          None              2920.0  \n",
       "5f6eeb3e5d20e300018cb3db          None                 0.0  \n",
       "5f6eeb3e5d20e300018cb3da          None               720.0  \n",
       "5f6eeb3e5d20e300018cb3d9          None              2180.0  \n",
       "5f6eeb3e5d20e300018cb3d8          None               740.0  \n",
       "\n",
       "[5 rows x 40 columns]"
      ],
      "text/html": "<div>\n<style scoped>\n    .dataframe tbody tr th:only-of-type {\n        vertical-align: middle;\n    }\n\n    .dataframe tbody tr th {\n        vertical-align: top;\n    }\n\n    .dataframe thead th {\n        text-align: right;\n    }\n</style>\n<table border=\"1\" class=\"dataframe\">\n  <thead>\n    <tr style=\"text-align: right;\">\n      <th></th>\n      <th>Start Time</th>\n      <th>End Time</th>\n      <th>Cycle Time (Net)</th>\n      <th>Cycle Time (Gross)</th>\n      <th>Shift</th>\n      <th>Machine</th>\n      <th>BM: Axial Load</th>\n      <th>BM: Dome Depth</th>\n      <th>BM: Thickwall Variation</th>\n      <th>BM: Trim Height Max</th>\n      <th>...</th>\n      <th>BM: Thinwall Avg</th>\n      <th>BM: Trim Height Avg</th>\n      <th>0_BM: CPM</th>\n      <th>BM: Trim Height Variation</th>\n      <th>0_BM: Primary Tear Off PPM</th>\n      <th>BM: Trimmer Jam - Data</th>\n      <th>BM: Trimmer Jam Time</th>\n      <th>BM: Trimmer Jam Events</th>\n      <th>BM: Cans Out</th>\n      <th>BM: Cans Out Total</th>\n    </tr>\n    <tr>\n      <th>id</th>\n      <th></th>\n      <th></th>\n      <th></th>\n      <th></th>\n      <th></th>\n      <th></th>\n      <th></th>\n      <th></th>\n      <th></th>\n      <th></th>\n      <th></th>\n      <th></th>\n      <th></th>\n      <th></th>\n      <th></th>\n      <th></th>\n      <th></th>\n      <th></th>\n      <th></th>\n      <th></th>\n      <th></th>\n    </tr>\n  </thead>\n  <tbody>\n    <tr>\n      <th>5f6eeb3e5d20e300018cb3dc</th>\n      <td>2020-09-01 23:59:00</td>\n      <td>2020-09-02 00:00:00</td>\n      <td>60000</td>\n      <td>60000</td>\n      <td>Day</td>\n      <td>BM 1</td>\n      <td>86.75</td>\n      <td>11.15</td>\n      <td>14.6</td>\n      <td>131.2865</td>\n      <td>...</td>\n      <td>89.450002</td>\n      <td>131.246999</td>\n      <td>256.000000</td>\n      <td>0.08</td>\n      <td>0.0</td>\n      <td>0.0</td>\n      <td>0</td>\n      <td>0</td>\n      <td>None</td>\n      <td>2920.0</td>\n    </tr>\n    <tr>\n      <th>5f6eeb3e5d20e300018cb3db</th>\n      <td>2020-09-01 23:58:00</td>\n      <td>2020-09-01 23:59:00</td>\n      <td>60000</td>\n      <td>60000</td>\n      <td>Day</td>\n      <td>BM 1</td>\n      <td>86.75</td>\n      <td>11.15</td>\n      <td>14.6</td>\n      <td>131.2865</td>\n      <td>...</td>\n      <td>89.450002</td>\n      <td>131.246999</td>\n      <td>260.000000</td>\n      <td>0.08</td>\n      <td>0.0</td>\n      <td>0.0</td>\n      <td>0</td>\n      <td>0</td>\n      <td>None</td>\n      <td>0.0</td>\n    </tr>\n    <tr>\n      <th>5f6eeb3e5d20e300018cb3da</th>\n      <td>2020-09-01 23:57:00</td>\n      <td>2020-09-01 23:58:00</td>\n      <td>60000</td>\n      <td>60000</td>\n      <td>Day</td>\n      <td>BM 1</td>\n      <td>86.75</td>\n      <td>11.15</td>\n      <td>14.6</td>\n      <td>131.2865</td>\n      <td>...</td>\n      <td>89.450002</td>\n      <td>131.246999</td>\n      <td>243.333333</td>\n      <td>0.08</td>\n      <td>0.0</td>\n      <td>0.0</td>\n      <td>0</td>\n      <td>0</td>\n      <td>None</td>\n      <td>720.0</td>\n    </tr>\n    <tr>\n      <th>5f6eeb3e5d20e300018cb3d9</th>\n      <td>2020-09-01 23:56:00</td>\n      <td>2020-09-01 23:57:00</td>\n      <td>60000</td>\n      <td>60000</td>\n      <td>Day</td>\n      <td>BM 1</td>\n      <td>86.75</td>\n      <td>11.15</td>\n      <td>14.6</td>\n      <td>131.2865</td>\n      <td>...</td>\n      <td>89.450002</td>\n      <td>131.246999</td>\n      <td>240.000000</td>\n      <td>0.08</td>\n      <td>0.0</td>\n      <td>0.0</td>\n      <td>0</td>\n      <td>0</td>\n      <td>None</td>\n      <td>2180.0</td>\n    </tr>\n    <tr>\n      <th>5f6eeb3e5d20e300018cb3d8</th>\n      <td>2020-09-01 23:55:00</td>\n      <td>2020-09-01 23:56:00</td>\n      <td>60000</td>\n      <td>60000</td>\n      <td>Day</td>\n      <td>BM 1</td>\n      <td>86.75</td>\n      <td>11.15</td>\n      <td>14.6</td>\n      <td>131.2865</td>\n      <td>...</td>\n      <td>89.450002</td>\n      <td>131.246999</td>\n      <td>240.000000</td>\n      <td>0.08</td>\n      <td>0.0</td>\n      <td>0.0</td>\n      <td>0</td>\n      <td>0</td>\n      <td>None</td>\n      <td>740.0</td>\n    </tr>\n  </tbody>\n</table>\n<p>5 rows × 40 columns</p>\n</div>"
     },
     "metadata": {},
     "execution_count": 3
    }
   ],
   "source": [
    "query = {'Machine': machines[0],\n",
    "         'End Time__gte' : datetime(2020, 9, 1), \n",
    "         'End Time__lte' : datetime(2020, 9, 2), \n",
    "         '_order_by': '-End Time'}\n",
    "df = cli.get_cycles(**query)\n",
    "\n",
    "print(f'Size of returned data: {df.shape}')\n",
    "df.head()"
   ]
  },
  {
   "source": [
    "# Selecting columns and silencing the `_only` Warning\n",
    "\n",
    "To select a specific set of columns, provide a list of column names as a value for the key _only.  For example, `'_only': ['column1', 'column2', 'column3']`\n",
    "\n",
    "If you do not use _only, the SDK will automatically select the first 50 stats in the machine's configuration, plus common metadata fields for the query.  \n",
    "\n",
    "Note, you can also pass `'_only': '*'`, which will return everything, including a large number of internal fields.  Since this includes may fields you probably will not need, expect the resulting queries to be quite slow.\n",
    "\n",
    "**IMPORTANT** If a selected column is all null, it will not be included in the returned data frame.  If you are getting fewer columns returned than expected, this mostly likely means that there was only null data for that column.\n",
    "\n"
   ],
   "cell_type": "markdown",
   "metadata": {}
  },
  {
   "cell_type": "code",
   "execution_count": 4,
   "metadata": {},
   "outputs": [
    {
     "output_type": "stream",
     "name": "stdout",
     "text": [
      "Size of returned data: (1441, 7)\n"
     ]
    },
    {
     "output_type": "execute_result",
     "data": {
      "text/plain": [
       "                                    End Time Machine  BM: Axial Load  \\\n",
       "id                                                                     \n",
       "5f6eeb3e5d20e300018cb3dc 2020-09-02 00:00:00    BM 1           86.75   \n",
       "5f6eeb3e5d20e300018cb3db 2020-09-01 23:59:00    BM 1           86.75   \n",
       "5f6eeb3e5d20e300018cb3da 2020-09-01 23:58:00    BM 1           86.75   \n",
       "5f6eeb3e5d20e300018cb3d9 2020-09-01 23:57:00    BM 1           86.75   \n",
       "5f6eeb3e5d20e300018cb3d8 2020-09-01 23:56:00    BM 1           86.75   \n",
       "\n",
       "                          BM: Dome Depth  BM: Thickwall Variation  \\\n",
       "id                                                                  \n",
       "5f6eeb3e5d20e300018cb3dc           11.15                     14.6   \n",
       "5f6eeb3e5d20e300018cb3db           11.15                     14.6   \n",
       "5f6eeb3e5d20e300018cb3da           11.15                     14.6   \n",
       "5f6eeb3e5d20e300018cb3d9           11.15                     14.6   \n",
       "5f6eeb3e5d20e300018cb3d8           11.15                     14.6   \n",
       "\n",
       "                          BM: Can Weight  BM: Thickwall Avg  \n",
       "id                                                           \n",
       "5f6eeb3e5d20e300018cb3dc           10.28         149.833328  \n",
       "5f6eeb3e5d20e300018cb3db           10.28         149.833328  \n",
       "5f6eeb3e5d20e300018cb3da           10.28         149.833328  \n",
       "5f6eeb3e5d20e300018cb3d9           10.28         149.833328  \n",
       "5f6eeb3e5d20e300018cb3d8           10.28         149.833328  "
      ],
      "text/html": "<div>\n<style scoped>\n    .dataframe tbody tr th:only-of-type {\n        vertical-align: middle;\n    }\n\n    .dataframe tbody tr th {\n        vertical-align: top;\n    }\n\n    .dataframe thead th {\n        text-align: right;\n    }\n</style>\n<table border=\"1\" class=\"dataframe\">\n  <thead>\n    <tr style=\"text-align: right;\">\n      <th></th>\n      <th>End Time</th>\n      <th>Machine</th>\n      <th>BM: Axial Load</th>\n      <th>BM: Dome Depth</th>\n      <th>BM: Thickwall Variation</th>\n      <th>BM: Can Weight</th>\n      <th>BM: Thickwall Avg</th>\n    </tr>\n    <tr>\n      <th>id</th>\n      <th></th>\n      <th></th>\n      <th></th>\n      <th></th>\n      <th></th>\n      <th></th>\n      <th></th>\n    </tr>\n  </thead>\n  <tbody>\n    <tr>\n      <th>5f6eeb3e5d20e300018cb3dc</th>\n      <td>2020-09-02 00:00:00</td>\n      <td>BM 1</td>\n      <td>86.75</td>\n      <td>11.15</td>\n      <td>14.6</td>\n      <td>10.28</td>\n      <td>149.833328</td>\n    </tr>\n    <tr>\n      <th>5f6eeb3e5d20e300018cb3db</th>\n      <td>2020-09-01 23:59:00</td>\n      <td>BM 1</td>\n      <td>86.75</td>\n      <td>11.15</td>\n      <td>14.6</td>\n      <td>10.28</td>\n      <td>149.833328</td>\n    </tr>\n    <tr>\n      <th>5f6eeb3e5d20e300018cb3da</th>\n      <td>2020-09-01 23:58:00</td>\n      <td>BM 1</td>\n      <td>86.75</td>\n      <td>11.15</td>\n      <td>14.6</td>\n      <td>10.28</td>\n      <td>149.833328</td>\n    </tr>\n    <tr>\n      <th>5f6eeb3e5d20e300018cb3d9</th>\n      <td>2020-09-01 23:57:00</td>\n      <td>BM 1</td>\n      <td>86.75</td>\n      <td>11.15</td>\n      <td>14.6</td>\n      <td>10.28</td>\n      <td>149.833328</td>\n    </tr>\n    <tr>\n      <th>5f6eeb3e5d20e300018cb3d8</th>\n      <td>2020-09-01 23:56:00</td>\n      <td>BM 1</td>\n      <td>86.75</td>\n      <td>11.15</td>\n      <td>14.6</td>\n      <td>10.28</td>\n      <td>149.833328</td>\n    </tr>\n  </tbody>\n</table>\n</div>"
     },
     "metadata": {},
     "execution_count": 4
    }
   ],
   "source": [
    "# Get the first 10 columns, plus Machine and End Time\n",
    "select_columns = ['Machine', 'End Time'] + columns[:5]\n",
    "\n",
    "query = {'Machine': machines[0],\n",
    "         'End Time__gte' : datetime(2020, 9, 1), \n",
    "         'End Time__lte' : datetime(2020, 9, 2), \n",
    "         '_order_by': '-End Time',\n",
    "         '_only': select_columns}\n",
    "df = cli.get_cycles(**query)\n",
    "\n",
    "print(f'Size of returned data: {df.shape}')\n",
    "df.head()"
   ]
  },
  {
   "source": [
    "## Restricting the number of rows returned with `_limit` and `_offset`\n",
    "\n",
    "To restrict the number of rows, use the _limit query option.  For example, `'_limit': 500`.  This will then return at most 500 rows.  \n",
    "\n",
    "To skip over a specified number of rows, use the _offset query option.  For example `'_offset': 50`.\n",
    "\n",
    "It is fairly common to use a combination of _limit and _offset togheter for applications such as paginating data.  For example, if a query would normally return 100 rows and you want to break it into two queries you could return the first 50 rows with `'_offset': 0, '_limit': 50` and then return the second 50 rows with `'_offset': 50, '_limit': 50`."
   ],
   "cell_type": "markdown",
   "metadata": {}
  },
  {
   "cell_type": "code",
   "execution_count": 5,
   "metadata": {},
   "outputs": [
    {
     "output_type": "stream",
     "name": "stdout",
     "text": [
      "_only not specified.  Selecting first 50 fields.\n",
      "Size of returned data: (500, 40)\n"
     ]
    },
    {
     "output_type": "execute_result",
     "data": {
      "text/plain": [
       "                                  Start Time            End Time  \\\n",
       "id                                                                 \n",
       "5f6eeb3d5d20e300018cb3d2 2020-09-01 23:49:00 2020-09-01 23:50:00   \n",
       "5f6eeb3d5d20e300018cb3d1 2020-09-01 23:48:00 2020-09-01 23:49:00   \n",
       "5f6eeb3d5d20e300018cb3d0 2020-09-01 23:47:00 2020-09-01 23:48:00   \n",
       "5f6eeb3d5d20e300018cb3cf 2020-09-01 23:46:00 2020-09-01 23:47:00   \n",
       "5f6eeb3d5d20e300018cb3ce 2020-09-01 23:45:00 2020-09-01 23:46:00   \n",
       "\n",
       "                          Cycle Time (Net)  Cycle Time (Gross) Shift Machine  \\\n",
       "id                                                                             \n",
       "5f6eeb3d5d20e300018cb3d2             60000               60000   Day    BM 1   \n",
       "5f6eeb3d5d20e300018cb3d1             60000               60000   Day    BM 1   \n",
       "5f6eeb3d5d20e300018cb3d0             60000               60000   Day    BM 1   \n",
       "5f6eeb3d5d20e300018cb3cf             60000               60000   Day    BM 1   \n",
       "5f6eeb3d5d20e300018cb3ce             60000               60000   Day    BM 1   \n",
       "\n",
       "                          BM: Axial Load  BM: Dome Depth  \\\n",
       "id                                                         \n",
       "5f6eeb3d5d20e300018cb3d2           86.75           11.15   \n",
       "5f6eeb3d5d20e300018cb3d1           86.75           11.15   \n",
       "5f6eeb3d5d20e300018cb3d0           86.75           11.15   \n",
       "5f6eeb3d5d20e300018cb3cf           86.75           11.15   \n",
       "5f6eeb3d5d20e300018cb3ce           86.75           11.15   \n",
       "\n",
       "                          BM: Thickwall Variation  BM: Trim Height Max  ...  \\\n",
       "id                                                                      ...   \n",
       "5f6eeb3d5d20e300018cb3d2                     14.6             131.2865  ...   \n",
       "5f6eeb3d5d20e300018cb3d1                     14.6             131.2865  ...   \n",
       "5f6eeb3d5d20e300018cb3d0                     14.6             131.2865  ...   \n",
       "5f6eeb3d5d20e300018cb3cf                     14.6             131.2865  ...   \n",
       "5f6eeb3d5d20e300018cb3ce                     14.6             131.2865  ...   \n",
       "\n",
       "                          BM: Thinwall Avg  BM: Trim Height Avg  0_BM: CPM  \\\n",
       "id                                                                           \n",
       "5f6eeb3d5d20e300018cb3d2         89.450002           131.246999      240.0   \n",
       "5f6eeb3d5d20e300018cb3d1         89.450002           131.246999      240.0   \n",
       "5f6eeb3d5d20e300018cb3d0         89.450002           131.246999      252.0   \n",
       "5f6eeb3d5d20e300018cb3cf         89.450002           131.246999      260.0   \n",
       "5f6eeb3d5d20e300018cb3ce         89.450002           131.246999      248.0   \n",
       "\n",
       "                          BM: Trim Height Variation  \\\n",
       "id                                                    \n",
       "5f6eeb3d5d20e300018cb3d2                       0.08   \n",
       "5f6eeb3d5d20e300018cb3d1                       0.08   \n",
       "5f6eeb3d5d20e300018cb3d0                       0.08   \n",
       "5f6eeb3d5d20e300018cb3cf                       0.08   \n",
       "5f6eeb3d5d20e300018cb3ce                       0.08   \n",
       "\n",
       "                          0_BM: Primary Tear Off PPM  BM: Trimmer Jam - Data  \\\n",
       "id                                                                             \n",
       "5f6eeb3d5d20e300018cb3d2                         0.0                     0.0   \n",
       "5f6eeb3d5d20e300018cb3d1                         0.0                     0.0   \n",
       "5f6eeb3d5d20e300018cb3d0                         0.0                     0.0   \n",
       "5f6eeb3d5d20e300018cb3cf                         0.0                     0.0   \n",
       "5f6eeb3d5d20e300018cb3ce                         0.0                     0.0   \n",
       "\n",
       "                         BM: Trimmer Jam Time  BM: Trimmer Jam Events  \\\n",
       "id                                                                      \n",
       "5f6eeb3d5d20e300018cb3d2                    0                       0   \n",
       "5f6eeb3d5d20e300018cb3d1                    0                       0   \n",
       "5f6eeb3d5d20e300018cb3d0                    0                       0   \n",
       "5f6eeb3d5d20e300018cb3cf                    0                       0   \n",
       "5f6eeb3d5d20e300018cb3ce                    0                       0   \n",
       "\n",
       "                          BM: Cans Out  BM: Cans Out Total  \n",
       "id                                                          \n",
       "5f6eeb3d5d20e300018cb3d2          None              4280.0  \n",
       "5f6eeb3d5d20e300018cb3d1          None                 0.0  \n",
       "5f6eeb3d5d20e300018cb3d0          None              3440.0  \n",
       "5f6eeb3d5d20e300018cb3cf          None                 0.0  \n",
       "5f6eeb3d5d20e300018cb3ce          None               840.0  \n",
       "\n",
       "[5 rows x 40 columns]"
      ],
      "text/html": "<div>\n<style scoped>\n    .dataframe tbody tr th:only-of-type {\n        vertical-align: middle;\n    }\n\n    .dataframe tbody tr th {\n        vertical-align: top;\n    }\n\n    .dataframe thead th {\n        text-align: right;\n    }\n</style>\n<table border=\"1\" class=\"dataframe\">\n  <thead>\n    <tr style=\"text-align: right;\">\n      <th></th>\n      <th>Start Time</th>\n      <th>End Time</th>\n      <th>Cycle Time (Net)</th>\n      <th>Cycle Time (Gross)</th>\n      <th>Shift</th>\n      <th>Machine</th>\n      <th>BM: Axial Load</th>\n      <th>BM: Dome Depth</th>\n      <th>BM: Thickwall Variation</th>\n      <th>BM: Trim Height Max</th>\n      <th>...</th>\n      <th>BM: Thinwall Avg</th>\n      <th>BM: Trim Height Avg</th>\n      <th>0_BM: CPM</th>\n      <th>BM: Trim Height Variation</th>\n      <th>0_BM: Primary Tear Off PPM</th>\n      <th>BM: Trimmer Jam - Data</th>\n      <th>BM: Trimmer Jam Time</th>\n      <th>BM: Trimmer Jam Events</th>\n      <th>BM: Cans Out</th>\n      <th>BM: Cans Out Total</th>\n    </tr>\n    <tr>\n      <th>id</th>\n      <th></th>\n      <th></th>\n      <th></th>\n      <th></th>\n      <th></th>\n      <th></th>\n      <th></th>\n      <th></th>\n      <th></th>\n      <th></th>\n      <th></th>\n      <th></th>\n      <th></th>\n      <th></th>\n      <th></th>\n      <th></th>\n      <th></th>\n      <th></th>\n      <th></th>\n      <th></th>\n      <th></th>\n    </tr>\n  </thead>\n  <tbody>\n    <tr>\n      <th>5f6eeb3d5d20e300018cb3d2</th>\n      <td>2020-09-01 23:49:00</td>\n      <td>2020-09-01 23:50:00</td>\n      <td>60000</td>\n      <td>60000</td>\n      <td>Day</td>\n      <td>BM 1</td>\n      <td>86.75</td>\n      <td>11.15</td>\n      <td>14.6</td>\n      <td>131.2865</td>\n      <td>...</td>\n      <td>89.450002</td>\n      <td>131.246999</td>\n      <td>240.0</td>\n      <td>0.08</td>\n      <td>0.0</td>\n      <td>0.0</td>\n      <td>0</td>\n      <td>0</td>\n      <td>None</td>\n      <td>4280.0</td>\n    </tr>\n    <tr>\n      <th>5f6eeb3d5d20e300018cb3d1</th>\n      <td>2020-09-01 23:48:00</td>\n      <td>2020-09-01 23:49:00</td>\n      <td>60000</td>\n      <td>60000</td>\n      <td>Day</td>\n      <td>BM 1</td>\n      <td>86.75</td>\n      <td>11.15</td>\n      <td>14.6</td>\n      <td>131.2865</td>\n      <td>...</td>\n      <td>89.450002</td>\n      <td>131.246999</td>\n      <td>240.0</td>\n      <td>0.08</td>\n      <td>0.0</td>\n      <td>0.0</td>\n      <td>0</td>\n      <td>0</td>\n      <td>None</td>\n      <td>0.0</td>\n    </tr>\n    <tr>\n      <th>5f6eeb3d5d20e300018cb3d0</th>\n      <td>2020-09-01 23:47:00</td>\n      <td>2020-09-01 23:48:00</td>\n      <td>60000</td>\n      <td>60000</td>\n      <td>Day</td>\n      <td>BM 1</td>\n      <td>86.75</td>\n      <td>11.15</td>\n      <td>14.6</td>\n      <td>131.2865</td>\n      <td>...</td>\n      <td>89.450002</td>\n      <td>131.246999</td>\n      <td>252.0</td>\n      <td>0.08</td>\n      <td>0.0</td>\n      <td>0.0</td>\n      <td>0</td>\n      <td>0</td>\n      <td>None</td>\n      <td>3440.0</td>\n    </tr>\n    <tr>\n      <th>5f6eeb3d5d20e300018cb3cf</th>\n      <td>2020-09-01 23:46:00</td>\n      <td>2020-09-01 23:47:00</td>\n      <td>60000</td>\n      <td>60000</td>\n      <td>Day</td>\n      <td>BM 1</td>\n      <td>86.75</td>\n      <td>11.15</td>\n      <td>14.6</td>\n      <td>131.2865</td>\n      <td>...</td>\n      <td>89.450002</td>\n      <td>131.246999</td>\n      <td>260.0</td>\n      <td>0.08</td>\n      <td>0.0</td>\n      <td>0.0</td>\n      <td>0</td>\n      <td>0</td>\n      <td>None</td>\n      <td>0.0</td>\n    </tr>\n    <tr>\n      <th>5f6eeb3d5d20e300018cb3ce</th>\n      <td>2020-09-01 23:45:00</td>\n      <td>2020-09-01 23:46:00</td>\n      <td>60000</td>\n      <td>60000</td>\n      <td>Day</td>\n      <td>BM 1</td>\n      <td>86.75</td>\n      <td>11.15</td>\n      <td>14.6</td>\n      <td>131.2865</td>\n      <td>...</td>\n      <td>89.450002</td>\n      <td>131.246999</td>\n      <td>248.0</td>\n      <td>0.08</td>\n      <td>0.0</td>\n      <td>0.0</td>\n      <td>0</td>\n      <td>0</td>\n      <td>None</td>\n      <td>840.0</td>\n    </tr>\n  </tbody>\n</table>\n<p>5 rows × 40 columns</p>\n</div>"
     },
     "metadata": {},
     "execution_count": 5
    }
   ],
   "source": [
    "query = {'Machine': machines[0],\n",
    "         'End Time__gte' : datetime(2020, 9, 1), \n",
    "         'End Time__lte' : datetime(2020, 9, 2), \n",
    "         '_order_by': '-End Time',\n",
    "         '_offset': 10,\n",
    "         '_limit': 500}\n",
    "df = cli.get_cycles(**query)\n",
    "\n",
    "print(f'Size of returned data: {df.shape}')\n",
    "\n",
    "# Notice in the returned data set that the first row is at 23:50 instead of midnight, becuase of the offset\n",
    "df.head()"
   ]
  },
  {
   "source": [
    "# Data from more than one Machine or filtering by a list of values using `__in`\n",
    "\n",
    "Filters can specify a list of acceptable values.  This is most commonly used when selecting data from more than one machine, though it can be used on any field name.  This is done by appending `__in` (*note two underscores*) to the column name and then specifying the list of options.  For example:\n",
    "\n",
    "    'Machine__in': ['Oven1', 'Oven2']\n",
    "\n",
    "or\n",
    "\n",
    "    'Status__in': ['Idle', 'Maintenance', 'Down']\n",
    "\n",
    "**Important** Selecting multiple machines of different types can result in spare and confusing data frames.  It is strongly recommended to only pick multiple machines of the same type.\n",
    "\n",
    "You can also query for values that are not in a list by using `__nin` with the same format as `__in`.  For example:\n",
    "\n",
    "    'Product_Code__nin': ['SuperMax 5000', 'MegaValue 6000']"
   ],
   "cell_type": "markdown",
   "metadata": {}
  },
  {
   "cell_type": "code",
   "execution_count": 6,
   "metadata": {},
   "outputs": [
    {
     "output_type": "stream",
     "name": "stdout",
     "text": [
      "_only not specified.  Selecting first 50 fields.\n",
      "Size of returned data: (4323, 40)\n"
     ]
    },
    {
     "output_type": "execute_result",
     "data": {
      "text/plain": [
       "                                  Start Time            End Time  \\\n",
       "id                                                                 \n",
       "5f6ef02c802e110001f0775c 2020-09-01 23:59:00 2020-09-02 00:00:00   \n",
       "5f6eebd7d27a3400012b351e 2020-09-01 23:59:00 2020-09-02 00:00:00   \n",
       "5f6eeb3e5d20e300018cb3dc 2020-09-01 23:59:00 2020-09-02 00:00:00   \n",
       "5f6ef02c802e110001f0775b 2020-09-01 23:58:00 2020-09-01 23:59:00   \n",
       "5f6eebd7d27a3400012b351d 2020-09-01 23:58:00 2020-09-01 23:59:00   \n",
       "\n",
       "                          Cycle Time (Net)  Cycle Time (Gross) Shift Machine  \\\n",
       "id                                                                             \n",
       "5f6ef02c802e110001f0775c             60000               60000   Day    BM 3   \n",
       "5f6eebd7d27a3400012b351e             60000               60000   Day    BM 2   \n",
       "5f6eeb3e5d20e300018cb3dc             60000               60000   Day    BM 1   \n",
       "5f6ef02c802e110001f0775b             60000               60000   Day    BM 3   \n",
       "5f6eebd7d27a3400012b351d             60000               60000   Day    BM 2   \n",
       "\n",
       "                          BM: Axial Load  BM: Dome Depth  \\\n",
       "id                                                         \n",
       "5f6ef02c802e110001f0775c          103.75           11.19   \n",
       "5f6eebd7d27a3400012b351e           99.81           11.28   \n",
       "5f6eeb3e5d20e300018cb3dc           86.75           11.15   \n",
       "5f6ef02c802e110001f0775b          103.75           11.19   \n",
       "5f6eebd7d27a3400012b351d           99.81           11.28   \n",
       "\n",
       "                          BM: Thickwall Variation  BM: Trim Height Max  ...  \\\n",
       "id                                                                      ...   \n",
       "5f6ef02c802e110001f0775c                 3.500000            131.24666  ...   \n",
       "5f6eebd7d27a3400012b351e                13.033333            131.28000  ...   \n",
       "5f6eeb3e5d20e300018cb3dc                14.600000            131.28650  ...   \n",
       "5f6ef02c802e110001f0775b                 3.500000            131.24666  ...   \n",
       "5f6eebd7d27a3400012b351d                13.033333            131.28000  ...   \n",
       "\n",
       "                          BM: Thinwall Avg  BM: Trim Height Avg   0_BM: CPM  \\\n",
       "id                                                                            \n",
       "5f6ef02c802e110001f0775c         89.866666           131.214828  244.000000   \n",
       "5f6eebd7d27a3400012b351e         89.899999           131.236165  240.000000   \n",
       "5f6eeb3e5d20e300018cb3dc         89.450002           131.246999  256.000000   \n",
       "5f6ef02c802e110001f0775b         89.866666           131.214828  260.000000   \n",
       "5f6eebd7d27a3400012b351d         89.899999           131.236165  243.333333   \n",
       "\n",
       "                          BM: Trim Height Variation  \\\n",
       "id                                                    \n",
       "5f6ef02c802e110001f0775c                       0.06   \n",
       "5f6eebd7d27a3400012b351e                       0.07   \n",
       "5f6eeb3e5d20e300018cb3dc                       0.08   \n",
       "5f6ef02c802e110001f0775b                       0.06   \n",
       "5f6eebd7d27a3400012b351d                       0.07   \n",
       "\n",
       "                          0_BM: Primary Tear Off PPM  BM: Trimmer Jam - Data  \\\n",
       "id                                                                             \n",
       "5f6ef02c802e110001f0775c                         0.0                     0.0   \n",
       "5f6eebd7d27a3400012b351e                         0.0                     0.0   \n",
       "5f6eeb3e5d20e300018cb3dc                         0.0                     0.0   \n",
       "5f6ef02c802e110001f0775b                         0.0                     0.0   \n",
       "5f6eebd7d27a3400012b351d                         0.0                     0.0   \n",
       "\n",
       "                         BM: Trimmer Jam Time  BM: Trimmer Jam Events  \\\n",
       "id                                                                      \n",
       "5f6ef02c802e110001f0775c                    0                       0   \n",
       "5f6eebd7d27a3400012b351e                    0                       0   \n",
       "5f6eeb3e5d20e300018cb3dc                    0                       0   \n",
       "5f6ef02c802e110001f0775b                    0                       0   \n",
       "5f6eebd7d27a3400012b351d                    0                       0   \n",
       "\n",
       "                          BM: Cans Out  BM: Cans Out Total  \n",
       "id                                                          \n",
       "5f6ef02c802e110001f0775c          None              2920.0  \n",
       "5f6eebd7d27a3400012b351e          None              2920.0  \n",
       "5f6eeb3e5d20e300018cb3dc          None              2920.0  \n",
       "5f6ef02c802e110001f0775b          None                 0.0  \n",
       "5f6eebd7d27a3400012b351d          None                 0.0  \n",
       "\n",
       "[5 rows x 40 columns]"
      ],
      "text/html": "<div>\n<style scoped>\n    .dataframe tbody tr th:only-of-type {\n        vertical-align: middle;\n    }\n\n    .dataframe tbody tr th {\n        vertical-align: top;\n    }\n\n    .dataframe thead th {\n        text-align: right;\n    }\n</style>\n<table border=\"1\" class=\"dataframe\">\n  <thead>\n    <tr style=\"text-align: right;\">\n      <th></th>\n      <th>Start Time</th>\n      <th>End Time</th>\n      <th>Cycle Time (Net)</th>\n      <th>Cycle Time (Gross)</th>\n      <th>Shift</th>\n      <th>Machine</th>\n      <th>BM: Axial Load</th>\n      <th>BM: Dome Depth</th>\n      <th>BM: Thickwall Variation</th>\n      <th>BM: Trim Height Max</th>\n      <th>...</th>\n      <th>BM: Thinwall Avg</th>\n      <th>BM: Trim Height Avg</th>\n      <th>0_BM: CPM</th>\n      <th>BM: Trim Height Variation</th>\n      <th>0_BM: Primary Tear Off PPM</th>\n      <th>BM: Trimmer Jam - Data</th>\n      <th>BM: Trimmer Jam Time</th>\n      <th>BM: Trimmer Jam Events</th>\n      <th>BM: Cans Out</th>\n      <th>BM: Cans Out Total</th>\n    </tr>\n    <tr>\n      <th>id</th>\n      <th></th>\n      <th></th>\n      <th></th>\n      <th></th>\n      <th></th>\n      <th></th>\n      <th></th>\n      <th></th>\n      <th></th>\n      <th></th>\n      <th></th>\n      <th></th>\n      <th></th>\n      <th></th>\n      <th></th>\n      <th></th>\n      <th></th>\n      <th></th>\n      <th></th>\n      <th></th>\n      <th></th>\n    </tr>\n  </thead>\n  <tbody>\n    <tr>\n      <th>5f6ef02c802e110001f0775c</th>\n      <td>2020-09-01 23:59:00</td>\n      <td>2020-09-02 00:00:00</td>\n      <td>60000</td>\n      <td>60000</td>\n      <td>Day</td>\n      <td>BM 3</td>\n      <td>103.75</td>\n      <td>11.19</td>\n      <td>3.500000</td>\n      <td>131.24666</td>\n      <td>...</td>\n      <td>89.866666</td>\n      <td>131.214828</td>\n      <td>244.000000</td>\n      <td>0.06</td>\n      <td>0.0</td>\n      <td>0.0</td>\n      <td>0</td>\n      <td>0</td>\n      <td>None</td>\n      <td>2920.0</td>\n    </tr>\n    <tr>\n      <th>5f6eebd7d27a3400012b351e</th>\n      <td>2020-09-01 23:59:00</td>\n      <td>2020-09-02 00:00:00</td>\n      <td>60000</td>\n      <td>60000</td>\n      <td>Day</td>\n      <td>BM 2</td>\n      <td>99.81</td>\n      <td>11.28</td>\n      <td>13.033333</td>\n      <td>131.28000</td>\n      <td>...</td>\n      <td>89.899999</td>\n      <td>131.236165</td>\n      <td>240.000000</td>\n      <td>0.07</td>\n      <td>0.0</td>\n      <td>0.0</td>\n      <td>0</td>\n      <td>0</td>\n      <td>None</td>\n      <td>2920.0</td>\n    </tr>\n    <tr>\n      <th>5f6eeb3e5d20e300018cb3dc</th>\n      <td>2020-09-01 23:59:00</td>\n      <td>2020-09-02 00:00:00</td>\n      <td>60000</td>\n      <td>60000</td>\n      <td>Day</td>\n      <td>BM 1</td>\n      <td>86.75</td>\n      <td>11.15</td>\n      <td>14.600000</td>\n      <td>131.28650</td>\n      <td>...</td>\n      <td>89.450002</td>\n      <td>131.246999</td>\n      <td>256.000000</td>\n      <td>0.08</td>\n      <td>0.0</td>\n      <td>0.0</td>\n      <td>0</td>\n      <td>0</td>\n      <td>None</td>\n      <td>2920.0</td>\n    </tr>\n    <tr>\n      <th>5f6ef02c802e110001f0775b</th>\n      <td>2020-09-01 23:58:00</td>\n      <td>2020-09-01 23:59:00</td>\n      <td>60000</td>\n      <td>60000</td>\n      <td>Day</td>\n      <td>BM 3</td>\n      <td>103.75</td>\n      <td>11.19</td>\n      <td>3.500000</td>\n      <td>131.24666</td>\n      <td>...</td>\n      <td>89.866666</td>\n      <td>131.214828</td>\n      <td>260.000000</td>\n      <td>0.06</td>\n      <td>0.0</td>\n      <td>0.0</td>\n      <td>0</td>\n      <td>0</td>\n      <td>None</td>\n      <td>0.0</td>\n    </tr>\n    <tr>\n      <th>5f6eebd7d27a3400012b351d</th>\n      <td>2020-09-01 23:58:00</td>\n      <td>2020-09-01 23:59:00</td>\n      <td>60000</td>\n      <td>60000</td>\n      <td>Day</td>\n      <td>BM 2</td>\n      <td>99.81</td>\n      <td>11.28</td>\n      <td>13.033333</td>\n      <td>131.28000</td>\n      <td>...</td>\n      <td>89.899999</td>\n      <td>131.236165</td>\n      <td>243.333333</td>\n      <td>0.07</td>\n      <td>0.0</td>\n      <td>0.0</td>\n      <td>0</td>\n      <td>0</td>\n      <td>None</td>\n      <td>0.0</td>\n    </tr>\n  </tbody>\n</table>\n<p>5 rows × 40 columns</p>\n</div>"
     },
     "metadata": {},
     "execution_count": 6
    }
   ],
   "source": [
    "# Note: taking the first three machines' data, so will result in three times as many records returned\n",
    "query = {'Machine__in': machines[0:3],\n",
    "         'End Time__gte' : datetime(2020, 9, 1), \n",
    "         'End Time__lte' : datetime(2020, 9, 2), \n",
    "         '_order_by': '-End Time'}\n",
    "df = cli.get_cycles(**query)\n",
    "\n",
    "print(f'Size of returned data: {df.shape}')\n",
    "# Notice the Machine column now has three different values\n",
    "df.head()"
   ]
  },
  {
   "source": [
    "# Filtering to only rows where a specified field exists with `__exists`\n",
    "\n",
    "Some data fields, such as inspection data, are often quite sparse.  To filter to only rows with or without non-null values, use `__exists`.  `__exists` should be appended to the name of the field, and then give it a boolean for if you want the field to exist (True) or not exist (False).  For example:\n",
    "\n",
    "    'Inspection_Value__exists': True\n",
    "\n",
    "or\n",
    "\n",
    "    'Failure_Code__exists': False"
   ],
   "cell_type": "markdown",
   "metadata": {}
  },
  {
   "cell_type": "code",
   "execution_count": 7,
   "metadata": {},
   "outputs": [
    {
     "output_type": "stream",
     "name": "stdout",
     "text": [
      "Size of returned data: (100, 3)\n"
     ]
    },
    {
     "output_type": "execute_result",
     "data": {
      "text/plain": [
       "                                    End Time Machine  BM: Axial Load\n",
       "id                                                                  \n",
       "6023eee3db18e80001cacc3a 2021-02-10 14:34:00    BM 1           93.00\n",
       "6023eeaadb18e80001cacba6 2021-02-10 14:33:00    BM 1           93.00\n",
       "6023ee6bdb18e80001cacb03 2021-02-10 14:32:00    BM 1           93.00\n",
       "6023ee35db18e80001caca7c 2021-02-10 14:31:00    BM 1           93.00\n",
       "6023edf3db18e80001cac9c9 2021-02-10 14:30:00    BM 1          105.73"
      ],
      "text/html": "<div>\n<style scoped>\n    .dataframe tbody tr th:only-of-type {\n        vertical-align: middle;\n    }\n\n    .dataframe tbody tr th {\n        vertical-align: top;\n    }\n\n    .dataframe thead th {\n        text-align: right;\n    }\n</style>\n<table border=\"1\" class=\"dataframe\">\n  <thead>\n    <tr style=\"text-align: right;\">\n      <th></th>\n      <th>End Time</th>\n      <th>Machine</th>\n      <th>BM: Axial Load</th>\n    </tr>\n    <tr>\n      <th>id</th>\n      <th></th>\n      <th></th>\n      <th></th>\n    </tr>\n  </thead>\n  <tbody>\n    <tr>\n      <th>6023eee3db18e80001cacc3a</th>\n      <td>2021-02-10 14:34:00</td>\n      <td>BM 1</td>\n      <td>93.00</td>\n    </tr>\n    <tr>\n      <th>6023eeaadb18e80001cacba6</th>\n      <td>2021-02-10 14:33:00</td>\n      <td>BM 1</td>\n      <td>93.00</td>\n    </tr>\n    <tr>\n      <th>6023ee6bdb18e80001cacb03</th>\n      <td>2021-02-10 14:32:00</td>\n      <td>BM 1</td>\n      <td>93.00</td>\n    </tr>\n    <tr>\n      <th>6023ee35db18e80001caca7c</th>\n      <td>2021-02-10 14:31:00</td>\n      <td>BM 1</td>\n      <td>93.00</td>\n    </tr>\n    <tr>\n      <th>6023edf3db18e80001cac9c9</th>\n      <td>2021-02-10 14:30:00</td>\n      <td>BM 1</td>\n      <td>105.73</td>\n    </tr>\n  </tbody>\n</table>\n</div>"
     },
     "metadata": {},
     "execution_count": 7
    }
   ],
   "source": [
    "\n",
    "query = {'Machine__in': ['BM 1', 'F2 BM 4'],\n",
    "         'BM: Axial Load__exists': True,\n",
    "         '_order_by': '-End Time',\n",
    "         '_only': ['Machine', 'End Time', 'BM: Axial Load'],\n",
    "         '_limit': 100}\n",
    "df = cli.get_cycles(**query)\n",
    "\n",
    "print(f'Size of returned data: {df.shape}')\n",
    "# Query was for two machines, but BM: Axial Load not on the second, so that doesn't appear in the data set\n",
    "df.head()"
   ]
  },
  {
   "source": [
    "# Testing for inequality with `__ne`\n",
    "\n",
    "The standard `key: value` format assumes it is testing when the key equals the value.  To change this to inequality, add a `__ne` suffix.  For example, `'StatusCode__ne': 0`\n",
    "\n"
   ],
   "cell_type": "markdown",
   "metadata": {}
  },
  {
   "cell_type": "code",
   "execution_count": 8,
   "metadata": {},
   "outputs": [
    {
     "output_type": "stream",
     "name": "stdout",
     "text": [
      "_only not specified.  Selecting first 50 fields.\n",
      "Size of returned data: (1129, 40)\n"
     ]
    },
    {
     "output_type": "execute_result",
     "data": {
      "text/plain": [
       "                                  Start Time            End Time  \\\n",
       "id                                                                 \n",
       "5f6eeb195d20e300018cb29b 2020-09-01 18:47:00 2020-09-01 18:48:00   \n",
       "5f6eeb195d20e300018cb29a 2020-09-01 18:46:00 2020-09-01 18:47:00   \n",
       "5f6eeb195d20e300018cb299 2020-09-01 18:45:00 2020-09-01 18:46:00   \n",
       "5f6eeb195d20e300018cb298 2020-09-01 18:44:00 2020-09-01 18:45:00   \n",
       "5f6eeb185d20e300018cb297 2020-09-01 18:43:00 2020-09-01 18:44:00   \n",
       "\n",
       "                          Cycle Time (Net)  Cycle Time (Gross)  Shift Machine  \\\n",
       "id                                                                              \n",
       "5f6eeb195d20e300018cb29b             60000               60000  Night    BM 1   \n",
       "5f6eeb195d20e300018cb29a             60000               60000  Night    BM 1   \n",
       "5f6eeb195d20e300018cb299             25603               60000  Night    BM 1   \n",
       "5f6eeb195d20e300018cb298                 0               60000  Night    BM 1   \n",
       "5f6eeb185d20e300018cb297                 0               60000  Night    BM 1   \n",
       "\n",
       "                          BM: Axial Load  BM: Dome Depth  \\\n",
       "id                                                         \n",
       "5f6eeb195d20e300018cb29b           88.26           11.16   \n",
       "5f6eeb195d20e300018cb29a           88.26           11.16   \n",
       "5f6eeb195d20e300018cb299           88.26           11.16   \n",
       "5f6eeb195d20e300018cb298           88.26           11.16   \n",
       "5f6eeb185d20e300018cb297           98.71           11.16   \n",
       "\n",
       "                          BM: Thickwall Variation  BM: Trim Height Max  ...  \\\n",
       "id                                                                      ...   \n",
       "5f6eeb195d20e300018cb29b                      5.5              131.294  ...   \n",
       "5f6eeb195d20e300018cb29a                      5.5              131.294  ...   \n",
       "5f6eeb195d20e300018cb299                      5.5              131.294  ...   \n",
       "5f6eeb195d20e300018cb298                      5.5              131.294  ...   \n",
       "5f6eeb185d20e300018cb297                      5.5              131.294  ...   \n",
       "\n",
       "                          BM: Thinwall Avg  BM: Trim Height Avg   0_BM: CPM  \\\n",
       "id                                                                            \n",
       "5f6eeb195d20e300018cb29b         89.075001           131.255753  240.000000   \n",
       "5f6eeb195d20e300018cb29a         89.075001           131.255753  248.000000   \n",
       "5f6eeb195d20e300018cb299         89.075001           131.255753   86.666667   \n",
       "5f6eeb195d20e300018cb298         89.075001           131.255753    0.000000   \n",
       "5f6eeb185d20e300018cb297         89.075001           131.255753    0.000000   \n",
       "\n",
       "                          BM: Trim Height Variation  \\\n",
       "id                                                    \n",
       "5f6eeb195d20e300018cb29b                       0.08   \n",
       "5f6eeb195d20e300018cb29a                       0.08   \n",
       "5f6eeb195d20e300018cb299                       0.08   \n",
       "5f6eeb195d20e300018cb298                       0.08   \n",
       "5f6eeb185d20e300018cb297                       0.08   \n",
       "\n",
       "                          0_BM: Primary Tear Off PPM  BM: Trimmer Jam - Data  \\\n",
       "id                                                                             \n",
       "5f6eeb195d20e300018cb29b                         0.0                     0.0   \n",
       "5f6eeb195d20e300018cb29a                         0.0                     0.0   \n",
       "5f6eeb195d20e300018cb299                         0.0                     0.0   \n",
       "5f6eeb195d20e300018cb298                         0.0                     0.0   \n",
       "5f6eeb185d20e300018cb297                         0.0                     0.0   \n",
       "\n",
       "                         BM: Trimmer Jam Time  BM: Trimmer Jam Events  \\\n",
       "id                                                                      \n",
       "5f6eeb195d20e300018cb29b                    0                       0   \n",
       "5f6eeb195d20e300018cb29a                    0                       0   \n",
       "5f6eeb195d20e300018cb299                    0                       0   \n",
       "5f6eeb195d20e300018cb298                    0                       0   \n",
       "5f6eeb185d20e300018cb297                    0                       0   \n",
       "\n",
       "                          BM: Cans Out  BM: Cans Out Total  \n",
       "id                                                          \n",
       "5f6eeb195d20e300018cb29b          None               220.0  \n",
       "5f6eeb195d20e300018cb29a          None              1480.0  \n",
       "5f6eeb195d20e300018cb299          None              2640.0  \n",
       "5f6eeb195d20e300018cb298          None               440.0  \n",
       "5f6eeb185d20e300018cb297          None               320.0  \n",
       "\n",
       "[5 rows x 40 columns]"
      ],
      "text/html": "<div>\n<style scoped>\n    .dataframe tbody tr th:only-of-type {\n        vertical-align: middle;\n    }\n\n    .dataframe tbody tr th {\n        vertical-align: top;\n    }\n\n    .dataframe thead th {\n        text-align: right;\n    }\n</style>\n<table border=\"1\" class=\"dataframe\">\n  <thead>\n    <tr style=\"text-align: right;\">\n      <th></th>\n      <th>Start Time</th>\n      <th>End Time</th>\n      <th>Cycle Time (Net)</th>\n      <th>Cycle Time (Gross)</th>\n      <th>Shift</th>\n      <th>Machine</th>\n      <th>BM: Axial Load</th>\n      <th>BM: Dome Depth</th>\n      <th>BM: Thickwall Variation</th>\n      <th>BM: Trim Height Max</th>\n      <th>...</th>\n      <th>BM: Thinwall Avg</th>\n      <th>BM: Trim Height Avg</th>\n      <th>0_BM: CPM</th>\n      <th>BM: Trim Height Variation</th>\n      <th>0_BM: Primary Tear Off PPM</th>\n      <th>BM: Trimmer Jam - Data</th>\n      <th>BM: Trimmer Jam Time</th>\n      <th>BM: Trimmer Jam Events</th>\n      <th>BM: Cans Out</th>\n      <th>BM: Cans Out Total</th>\n    </tr>\n    <tr>\n      <th>id</th>\n      <th></th>\n      <th></th>\n      <th></th>\n      <th></th>\n      <th></th>\n      <th></th>\n      <th></th>\n      <th></th>\n      <th></th>\n      <th></th>\n      <th></th>\n      <th></th>\n      <th></th>\n      <th></th>\n      <th></th>\n      <th></th>\n      <th></th>\n      <th></th>\n      <th></th>\n      <th></th>\n      <th></th>\n    </tr>\n  </thead>\n  <tbody>\n    <tr>\n      <th>5f6eeb195d20e300018cb29b</th>\n      <td>2020-09-01 18:47:00</td>\n      <td>2020-09-01 18:48:00</td>\n      <td>60000</td>\n      <td>60000</td>\n      <td>Night</td>\n      <td>BM 1</td>\n      <td>88.26</td>\n      <td>11.16</td>\n      <td>5.5</td>\n      <td>131.294</td>\n      <td>...</td>\n      <td>89.075001</td>\n      <td>131.255753</td>\n      <td>240.000000</td>\n      <td>0.08</td>\n      <td>0.0</td>\n      <td>0.0</td>\n      <td>0</td>\n      <td>0</td>\n      <td>None</td>\n      <td>220.0</td>\n    </tr>\n    <tr>\n      <th>5f6eeb195d20e300018cb29a</th>\n      <td>2020-09-01 18:46:00</td>\n      <td>2020-09-01 18:47:00</td>\n      <td>60000</td>\n      <td>60000</td>\n      <td>Night</td>\n      <td>BM 1</td>\n      <td>88.26</td>\n      <td>11.16</td>\n      <td>5.5</td>\n      <td>131.294</td>\n      <td>...</td>\n      <td>89.075001</td>\n      <td>131.255753</td>\n      <td>248.000000</td>\n      <td>0.08</td>\n      <td>0.0</td>\n      <td>0.0</td>\n      <td>0</td>\n      <td>0</td>\n      <td>None</td>\n      <td>1480.0</td>\n    </tr>\n    <tr>\n      <th>5f6eeb195d20e300018cb299</th>\n      <td>2020-09-01 18:45:00</td>\n      <td>2020-09-01 18:46:00</td>\n      <td>25603</td>\n      <td>60000</td>\n      <td>Night</td>\n      <td>BM 1</td>\n      <td>88.26</td>\n      <td>11.16</td>\n      <td>5.5</td>\n      <td>131.294</td>\n      <td>...</td>\n      <td>89.075001</td>\n      <td>131.255753</td>\n      <td>86.666667</td>\n      <td>0.08</td>\n      <td>0.0</td>\n      <td>0.0</td>\n      <td>0</td>\n      <td>0</td>\n      <td>None</td>\n      <td>2640.0</td>\n    </tr>\n    <tr>\n      <th>5f6eeb195d20e300018cb298</th>\n      <td>2020-09-01 18:44:00</td>\n      <td>2020-09-01 18:45:00</td>\n      <td>0</td>\n      <td>60000</td>\n      <td>Night</td>\n      <td>BM 1</td>\n      <td>88.26</td>\n      <td>11.16</td>\n      <td>5.5</td>\n      <td>131.294</td>\n      <td>...</td>\n      <td>89.075001</td>\n      <td>131.255753</td>\n      <td>0.000000</td>\n      <td>0.08</td>\n      <td>0.0</td>\n      <td>0.0</td>\n      <td>0</td>\n      <td>0</td>\n      <td>None</td>\n      <td>440.0</td>\n    </tr>\n    <tr>\n      <th>5f6eeb185d20e300018cb297</th>\n      <td>2020-09-01 18:43:00</td>\n      <td>2020-09-01 18:44:00</td>\n      <td>0</td>\n      <td>60000</td>\n      <td>Night</td>\n      <td>BM 1</td>\n      <td>98.71</td>\n      <td>11.16</td>\n      <td>5.5</td>\n      <td>131.294</td>\n      <td>...</td>\n      <td>89.075001</td>\n      <td>131.255753</td>\n      <td>0.000000</td>\n      <td>0.08</td>\n      <td>0.0</td>\n      <td>0.0</td>\n      <td>0</td>\n      <td>0</td>\n      <td>None</td>\n      <td>320.0</td>\n    </tr>\n  </tbody>\n</table>\n<p>5 rows × 40 columns</p>\n</div>"
     },
     "metadata": {},
     "execution_count": 8
    }
   ],
   "source": [
    "query = {'Machine': machines[0],\n",
    "         'BM: Axial Load__ne': 86.75,\n",
    "         'End Time__gte' : datetime(2020, 9, 1), \n",
    "         'End Time__lte' : datetime(2020, 9, 2), \n",
    "         '_order_by': '-End Time'}\n",
    "df = cli.get_cycles(**query)\n",
    "\n",
    "print(f'Size of returned data: {df.shape}')\n",
    "df.head()"
   ]
  }
 ]
}