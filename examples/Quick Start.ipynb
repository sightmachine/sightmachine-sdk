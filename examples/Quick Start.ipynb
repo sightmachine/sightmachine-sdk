{
 "metadata": {
  "language_info": {
   "codemirror_mode": {
    "name": "ipython",
    "version": 3
   },
   "file_extension": ".py",
   "mimetype": "text/x-python",
   "name": "python",
   "nbconvert_exporter": "python",
   "pygments_lexer": "ipython3",
   "version": "3.7.5-final"
  },
  "orig_nbformat": 2,
  "kernelspec": {
   "name": "python3",
   "display_name": "Python 3",
   "language": "python"
  }
 },
 "nbformat": 4,
 "nbformat_minor": 2,
 "cells": [
  {
   "source": [
    "# Example: Quick Start\n",
    "\n",
    "Notebook demonstrating the same code used in the Quick Start on the README documentation.\n",
    "\n",
    "Demonstrates:\n",
    "- Creating a client connection   \n",
    "- Password authentication\n",
    "- Listing machine types \n",
    "- Listing machines \n",
    "- Listing machine attributes/stats \n",
    "- Running a basic query"
   ],
   "cell_type": "markdown",
   "metadata": {}
  },
  {
   "cell_type": "code",
   "execution_count": null,
   "metadata": {},
   "outputs": [],
   "source": [
    "from datetime import datetime \n",
    "from smsdk import client"
   ]
  },
  {
   "cell_type": "code",
   "execution_count": null,
   "metadata": {},
   "outputs": [],
   "source": [
    "tenant = 'my_tenant'\n",
    "cli = client.Client(tenant)"
   ]
  },
  {
   "cell_type": "code",
   "execution_count": null,
   "metadata": {},
   "outputs": [],
   "source": [
    "username = 'me@mycompany.com'\n",
    "password = 'asdf%^&*1234'\n",
    "\n",
    "cli.login('basic', email=username, password=password)"
   ]
  },
  {
   "cell_type": "code",
   "execution_count": null,
   "metadata": {},
   "outputs": [],
   "source": [
    "types = cli.get_machine_type_names()\n",
    "types"
   ]
  },
  {
   "cell_type": "code",
   "execution_count": null,
   "metadata": {},
   "outputs": [],
   "source": [
    "machine_type = types[0]\n",
    "machines = cli.get_machine_names(source_type=machine_type)\n",
    "machines"
   ]
  },
  {
   "cell_type": "code",
   "execution_count": null,
   "metadata": {},
   "outputs": [],
   "source": [
    "cli.get_machine_schema(machines[0])"
   ]
  },
  {
   "cell_type": "code",
   "execution_count": null,
   "metadata": {},
   "outputs": [],
   "source": [
    "query = {'Machine': machines[0],\n",
    "         'End Time__gte' : datetime(2020, 9, 1), \n",
    "         'End Time__lte' : datetime(2020, 9, 2), \n",
    "         '_order_by': '-End Time'}\n",
    "cli.get_cycles(**query)"
   ]
  },
  {
   "cell_type": "code",
   "execution_count": null,
   "metadata": {},
   "outputs": [],
   "source": []
  }
 ]
}