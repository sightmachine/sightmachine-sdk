{
 "cells": [
  {
   "cell_type": "markdown",
   "metadata": {},
   "source": [
    "# Example: Quick Start\n",
    "\n",
    "Notebook demonstrating the same code used in the Quick Start on the README documentation.\n",
    "\n",
    "Demonstrates:\n",
    "- Creating a client connection   \n",
    "- Password authentication\n",
    "- Listing machine types \n",
    "- Listing machines \n",
    "- Listing machine attributes/stats \n",
    "- Running a basic query"
   ]
  },
  {
   "cell_type": "code",
   "execution_count": null,
   "metadata": {},
   "outputs": [],
   "source": [
    "from datetime import datetime \n",
    "from smsdk import client\n",
    "import os"
   ]
  },
  {
   "cell_type": "code",
   "execution_count": null,
   "metadata": {},
   "outputs": [],
   "source": [
    "env_var_tenant = 'ENV_VAR_TENANT'\n",
    "env_var_username = 'ENV_VAR_USERNAME'\n",
    "env_var_password = 'ENV_VAR_PASSWORD'\n",
    "\n",
    "# Check if the environment variable exists\n",
    "if env_var_tenant in os.environ:\n",
    "    # Retrieve the value of the environment variable\n",
    "    tenant = os.environ[env_var_tenant]\n",
    "else:\n",
    "    # Use a default value if the environment variable is not present\n",
    "    tenant = 'my_tenant'\n",
    "\n",
    "# Check if the environment variable exists\n",
    "if env_var_username in os.environ:\n",
    "    # Retrieve the value of the environment variable\n",
    "    username = os.environ[env_var_username]\n",
    "else:\n",
    "    # Use a default value if the environment variable is not present\n",
    "    username = 'me@mycompany.com'\n",
    "\n",
    "# Check if the environment variable exists\n",
    "if env_var_password in os.environ:\n",
    "    # Retrieve the value of the environment variable\n",
    "    password = os.environ[env_var_password]\n",
    "else:\n",
    "    # Use a default value if the environment variable is not present\n",
    "    password = 'asdf%^&*1234'"
   ]
  },
  {
   "cell_type": "code",
   "execution_count": null,
   "metadata": {},
   "outputs": [],
   "source": [
    "cli = client.Client(tenant)\n",
    "cli.login('basic', email=username, password=password)"
   ]
  },
  {
   "cell_type": "code",
   "execution_count": null,
   "metadata": {},
   "outputs": [],
   "source": [
    "types = cli.get_machine_type_names()\n",
    "types"
   ]
  },
  {
   "cell_type": "code",
   "execution_count": null,
   "metadata": {},
   "outputs": [],
   "source": [
    "machine_type = types[0]\n",
    "machines = cli.get_machine_names(source_type=machine_type)\n",
    "machines"
   ]
  },
  {
   "cell_type": "code",
   "execution_count": null,
   "metadata": {},
   "outputs": [],
   "source": [
    "cli.get_machine_schema(machines[0])"
   ]
  },
  {
   "cell_type": "code",
   "execution_count": null,
   "metadata": {},
   "outputs": [],
   "source": [
    "query = {'Machine': machines[0],\n",
    "         'End Time__gte' : datetime(2020, 9, 1), \n",
    "         'End Time__lte' : datetime(2020, 9, 2), \n",
    "         '_order_by': '-End Time'}\n",
    "cli.get_cycles(**query)"
   ]
  },
  {
   "cell_type": "code",
   "execution_count": null,
   "metadata": {},
   "outputs": [],
   "source": []
  }
 ],
 "metadata": {
  "kernelspec": {
   "display_name": "Python 3",
   "language": "python",
   "name": "python3"
  },
  "language_info": {
   "codemirror_mode": {
    "name": "ipython",
    "version": 3
   },
   "file_extension": ".py",
   "mimetype": "text/x-python",
   "name": "python",
   "nbconvert_exporter": "python",
   "pygments_lexer": "ipython3",
   "version": "3.7.5-final"
  },
  "orig_nbformat": 2
 },
 "nbformat": 4,
 "nbformat_minor": 2
}
